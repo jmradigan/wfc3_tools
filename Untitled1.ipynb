{
 "metadata": {
  "name": "",
  "signature": "sha256:fe3397eecf34361231116767f423daa07bf20cf2d3d5b02249a5d437b68119a2"
 },
 "nbformat": 3,
 "nbformat_minor": 0,
 "worksheets": [
  {
   "cells": [
    {
     "cell_type": "code",
     "collapsed": false,
     "input": [
      "import os, sys"
     ],
     "language": "python",
     "metadata": {},
     "outputs": [],
     "prompt_number": 1
    },
    {
     "cell_type": "code",
     "collapsed": false,
     "input": [
      "datapath='/Users/10759054/projects/go13299/data'\n",
      "fullframepath='/Users/10759054/projects/go13299/fullframe'\n",
      "imdrizzlepath='/Users/10759054/projects/go13299/imdrizzle'"
     ],
     "language": "python",
     "metadata": {},
     "outputs": [],
     "prompt_number": 2
    },
    {
     "cell_type": "code",
     "collapsed": false,
     "input": [
      "os.path.split(datapath)"
     ],
     "language": "python",
     "metadata": {},
     "outputs": [
      {
       "metadata": {},
       "output_type": "pyout",
       "prompt_number": 3,
       "text": [
        "('/Users/10759054/projects/go13299', 'data')"
       ]
      }
     ],
     "prompt_number": 3
    },
    {
     "cell_type": "code",
     "collapsed": false,
     "input": [],
     "language": "python",
     "metadata": {},
     "outputs": []
    }
   ],
   "metadata": {}
  }
 ]
}