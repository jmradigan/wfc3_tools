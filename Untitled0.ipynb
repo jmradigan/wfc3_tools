{
 "metadata": {
  "name": "",
  "signature": "sha256:dc39fdf933496087c2d3eaa3ec873cb46a669bf82c5ef1c89e535b09c295e1ff"
 },
 "nbformat": 3,
 "nbformat_minor": 0,
 "worksheets": [
  {
   "cells": [
    {
     "cell_type": "code",
     "collapsed": false,
     "input": [
      "from wfc3_reduc import *"
     ],
     "language": "python",
     "metadata": {},
     "outputs": [
      {
       "output_type": "stream",
       "stream": "stdout",
       "text": [
        "The following tasks in the stwcs.gui package can be run with TEAL:\n",
        "     apply_headerlet          archive_headerlet          attach_headerlet     \n",
        "     delete_headerlet         extract_headerlet         headerlet_summary     \n",
        "    restore_headerlet             updatewcs              write_headerlet\n",
        "\n",
        "\n",
        "The following task in the fitsblender package can be run with TEAL:\n",
        "                                  blendheaders                                  \n",
        "The following tasks in the drizzlepac package can be run with TEAL:\n",
        "    astrodrizzle       imagefindpars          pixtopix            pixtosky      \n",
        "     resetbits            skytopix           tweakback            tweakreg      \n",
        "     updatenpol"
       ]
      },
      {
       "output_type": "stream",
       "stream": "stdout",
       "text": [
        "\n"
       ]
      }
     ],
     "prompt_number": 1
    },
    {
     "cell_type": "code",
     "collapsed": false,
     "input": [
      "path='/Users/10759054/projects/go13299/target1'\n",
      "dirs=setup_environment(path)\n",
      "#datapath='/Users/10759054/projects/go13299/data'\n",
      "#fullframepath='/Users/10759054/projects/go13299/fullframe'\n",
      "#imdrizzlepath='/Users/10759054/projects/go13299/imdrizzle'\n"
     ],
     "language": "python",
     "metadata": {},
     "outputs": [],
     "prompt_number": 2
    },
    {
     "cell_type": "code",
     "collapsed": false,
     "input": [
      "#print(dirs['datapath'][0])"
     ],
     "language": "python",
     "metadata": {},
     "outputs": [],
     "prompt_number": 3
    },
    {
     "cell_type": "code",
     "collapsed": false,
     "input": [
      " #copy_data(dirs['savepath'][0],dirs['datapath'][0])"
     ],
     "language": "python",
     "metadata": {},
     "outputs": [],
     "prompt_number": 4
    },
    {
     "cell_type": "code",
     "collapsed": false,
     "input": [
      "#embed_subarrays(dirs['datapath'][0],dirs['fullframepath'][0])"
     ],
     "language": "python",
     "metadata": {},
     "outputs": [],
     "prompt_number": 5
    },
    {
     "cell_type": "code",
     "collapsed": false,
     "input": [
      "filters=filter_list(dirs['fullframepath'][0],dirs['imdrizzlepath'][0])"
     ],
     "language": "python",
     "metadata": {},
     "outputs": [],
     "prompt_number": 6
    },
    {
     "cell_type": "code",
     "collapsed": false,
     "input": [
      "#do_astrodrizzle(filters,dirs['imdrizzlepath'][0])"
     ],
     "language": "python",
     "metadata": {},
     "outputs": [],
     "prompt_number": 7
    },
    {
     "cell_type": "code",
     "collapsed": false,
     "input": [
      "#help(astrodrizzle.AstroDrizzle)"
     ],
     "language": "python",
     "metadata": {},
     "outputs": [],
     "prompt_number": 8
    },
    {
     "cell_type": "code",
     "collapsed": false,
     "input": [
      "#do_sextractor(filters,dirs['imdrizzlepath'][0])"
     ],
     "language": "python",
     "metadata": {},
     "outputs": [],
     "prompt_number": 9
    },
    {
     "cell_type": "code",
     "collapsed": false,
     "input": [
      "#%matplotlib inline\n",
      "#filter='F127M'\n",
      "#identify_target(filter,imdrizzlepath)"
     ],
     "language": "python",
     "metadata": {},
     "outputs": [],
     "prompt_number": 10
    },
    {
     "cell_type": "code",
     "collapsed": false,
     "input": [
      "#do_axeprep(filters,dirs['fullframepath'][0],dirs['imdrizzlepath'][0],dirs['basepath'][0],dirs['datapath'][0])"
     ],
     "language": "python",
     "metadata": {},
     "outputs": [],
     "prompt_number": 11
    },
    {
     "cell_type": "code",
     "collapsed": false,
     "input": [
      "do_axecore(filters,dirs['basepath'][0])"
     ],
     "language": "python",
     "metadata": {},
     "outputs": [
      {
       "output_type": "stream",
       "stream": "stdout",
       "text": [
        "Setting up output name:  icar02h4f_drz.fits\n",
        "Starting PyDrizzle Version  6.4.3  at  21:03:26 (11/03/2018)\n",
        "py_SEX2GOL:  Setup:\n",
        "py_SEX2GOL:  Input g/prism image:      icar02h4f_flt.fits\n",
        "py_SEX2GOL:  Configuration file name:  WFC3.IR.G141.V2.5.conf\n",
        "py_SEX2GOL:  Direct image:             icar02h3f_flt.fits\n",
        "py_SEX2GOL:  G/Prism extension:        2\n",
        "py_SEX2GOL:  Direct image extension:   2\n",
        "py_SEX2GOL:  Input catalog name:       /Users/10759054/projects/go13299/target1/DATA/icar02h3f_flt_1.cat\n",
        "py_SEX2GOL:  Output catalog name:      icar02h4f_flt_2.cat  "
       ]
      },
      {
       "output_type": "stream",
       "stream": "stdout",
       "text": [
        "\n",
        "py_SEX2GOL:  Start processing ... "
       ]
      },
      {
       "output_type": "stream",
       "stream": "stdout",
       "text": [
        "     Done\n",
        "Setting up output name: "
       ]
      },
      {
       "output_type": "stream",
       "stream": "stdout",
       "text": [
        " icar02h5f_drz.fits\n",
        "Starting PyDrizzle Version  6.4.3  at  21:03:28 (11/03/2018)\n",
        "py_SEX2GOL:  Setup:\n",
        "py_SEX2GOL:  Input g/prism image:      icar02h5f_flt.fits\n",
        "py_SEX2GOL:  Configuration file name:  WFC3.IR.G141.V2.5.conf\n",
        "py_SEX2GOL:  Direct image:             icar02h3f_flt.fits\n",
        "py_SEX2GOL:  G/Prism extension:        2\n",
        "py_SEX2GOL:  Direct image extension:   2\n",
        "py_SEX2GOL:  Input catalog name:       /Users/10759054/projects/go13299/target1/DATA/icar02h3f_flt_1.cat\n",
        "py_SEX2GOL:  Output catalog name:      icar02h5f_flt_2.cat  "
       ]
      },
      {
       "output_type": "stream",
       "stream": "stdout",
       "text": [
        "\n",
        "py_SEX2GOL:  Start processing ... "
       ]
      },
      {
       "output_type": "stream",
       "stream": "stdout",
       "text": [
        "     Done\n",
        "Setting up output name: "
       ]
      },
      {
       "output_type": "stream",
       "stream": "stdout",
       "text": [
        " icar02h6f_drz.fits\n",
        "Starting PyDrizzle Version  6.4.3  at  21:03:31 (11/03/2018)\n",
        "py_SEX2GOL:  Setup:\n",
        "py_SEX2GOL:  Input g/prism image:      icar02h6f_flt.fits\n",
        "py_SEX2GOL:  Configuration file name:  WFC3.IR.G141.V2.5.conf\n",
        "py_SEX2GOL:  Direct image:             icar02h3f_flt.fits\n",
        "py_SEX2GOL:  G/Prism extension:        2\n",
        "py_SEX2GOL:  Direct image extension:   2\n",
        "py_SEX2GOL:  Input catalog name:       /Users/10759054/projects/go13299/target1/DATA/icar02h3f_flt_1.cat\n",
        "py_SEX2GOL:  Output catalog name:      icar02h6f_flt_2.cat  "
       ]
      },
      {
       "output_type": "stream",
       "stream": "stdout",
       "text": [
        "\n",
        "py_SEX2GOL:  Start processing ... "
       ]
      },
      {
       "output_type": "stream",
       "stream": "stdout",
       "text": [
        "     Done\n",
        "Setting up output name: "
       ]
      },
      {
       "output_type": "stream",
       "stream": "stdout",
       "text": [
        " icar02h7f_drz.fits\n",
        "Starting PyDrizzle Version  6.4.3  at  21:03:33 (11/03/2018)\n",
        "py_SEX2GOL:  Setup:\n",
        "py_SEX2GOL:  Input g/prism image:      icar02h7f_flt.fits\n",
        "py_SEX2GOL:  Configuration file name:  WFC3.IR.G141.V2.5.conf\n",
        "py_SEX2GOL:  Direct image:             icar02h3f_flt.fits\n",
        "py_SEX2GOL:  G/Prism extension:        2\n",
        "py_SEX2GOL:  Direct image extension:   2\n",
        "py_SEX2GOL:  Input catalog name:       /Users/10759054/projects/go13299/target1/DATA/icar02h3f_flt_1.cat\n",
        "py_SEX2GOL:  Output catalog name:      icar02h7f_flt_2.cat  "
       ]
      },
      {
       "output_type": "stream",
       "stream": "stdout",
       "text": [
        "\n",
        "py_SEX2GOL:  Start processing ... "
       ]
      },
      {
       "output_type": "stream",
       "stream": "stdout",
       "text": [
        "     Done\n",
        "Setting up output name: "
       ]
      },
      {
       "output_type": "stream",
       "stream": "stdout",
       "text": [
        " icar02h8f_drz.fits\n",
        "Starting PyDrizzle Version  6.4.3  at  21:03:35 (11/03/2018)\n",
        "py_SEX2GOL:  Setup:\n",
        "py_SEX2GOL:  Input g/prism image:      icar02h8f_flt.fits\n",
        "py_SEX2GOL:  Configuration file name:  WFC3.IR.G141.V2.5.conf\n",
        "py_SEX2GOL:  Direct image:             icar02h3f_flt.fits\n",
        "py_SEX2GOL:  G/Prism extension:        2\n",
        "py_SEX2GOL:  Direct image extension:   2\n",
        "py_SEX2GOL:  Input catalog name:       /Users/10759054/projects/go13299/target1/DATA/icar02h3f_flt_1.cat\n",
        "py_SEX2GOL:  Output catalog name:      icar02h8f_flt_2.cat  "
       ]
      },
      {
       "output_type": "stream",
       "stream": "stdout",
       "text": [
        "\n",
        "py_SEX2GOL:  Start processing ... "
       ]
      },
      {
       "output_type": "stream",
       "stream": "stdout",
       "text": [
        "     Done\n",
        "Setting up output name: "
       ]
      },
      {
       "output_type": "stream",
       "stream": "stdout",
       "text": [
        " icar02h9f_drz.fits\n",
        "Starting PyDrizzle Version  6.4.3  at  21:03:38 (11/03/2018)\n",
        "py_SEX2GOL:  Setup:\n",
        "py_SEX2GOL:  Input g/prism image:      icar02h9f_flt.fits\n",
        "py_SEX2GOL:  Configuration file name:  WFC3.IR.G141.V2.5.conf\n",
        "py_SEX2GOL:  Direct image:             icar02h3f_flt.fits\n",
        "py_SEX2GOL:  G/Prism extension:        2\n",
        "py_SEX2GOL:  Direct image extension:   2\n",
        "py_SEX2GOL:  Input catalog name:       /Users/10759054/projects/go13299/target1/DATA/icar02h3f_flt_1.cat\n",
        "py_SEX2GOL:  Output catalog name:      icar02h9f_flt_2.cat  "
       ]
      },
      {
       "output_type": "stream",
       "stream": "stdout",
       "text": [
        "\n",
        "py_SEX2GOL:  Start processing ... "
       ]
      },
      {
       "output_type": "stream",
       "stream": "stdout",
       "text": [
        "     Done\n",
        "Setting up output name: "
       ]
      },
      {
       "output_type": "stream",
       "stream": "stdout",
       "text": [
        " icar02haf_drz.fits\n",
        "Starting PyDrizzle Version  6.4.3  at  21:03:40 (11/03/2018)\n",
        "py_SEX2GOL:  Setup:\n",
        "py_SEX2GOL:  Input g/prism image:      icar02haf_flt.fits\n",
        "py_SEX2GOL:  Configuration file name:  WFC3.IR.G141.V2.5.conf\n",
        "py_SEX2GOL:  Direct image:             icar02h3f_flt.fits\n",
        "py_SEX2GOL:  G/Prism extension:        2\n",
        "py_SEX2GOL:  Direct image extension:   2\n",
        "py_SEX2GOL:  Input catalog name:       /Users/10759054/projects/go13299/target1/DATA/icar02h3f_flt_1.cat\n",
        "py_SEX2GOL:  Output catalog name:      icar02haf_flt_2.cat  "
       ]
      },
      {
       "output_type": "stream",
       "stream": "stdout",
       "text": [
        "\n",
        "py_SEX2GOL:  Start processing ... "
       ]
      },
      {
       "output_type": "stream",
       "stream": "stdout",
       "text": [
        "     Done\n",
        "Setting up output name: "
       ]
      },
      {
       "output_type": "stream",
       "stream": "stdout",
       "text": [
        " icar02hbf_drz.fits\n",
        "Starting PyDrizzle Version  6.4.3  at  21:03:43 (11/03/2018)\n",
        "py_SEX2GOL:  Setup:\n",
        "py_SEX2GOL:  Input g/prism image:      icar02hbf_flt.fits\n",
        "py_SEX2GOL:  Configuration file name:  WFC3.IR.G141.V2.5.conf\n",
        "py_SEX2GOL:  Direct image:             icar02h3f_flt.fits\n",
        "py_SEX2GOL:  G/Prism extension:        2\n",
        "py_SEX2GOL:  Direct image extension:   2\n",
        "py_SEX2GOL:  Input catalog name:       /Users/10759054/projects/go13299/target1/DATA/icar02h3f_flt_1.cat\n",
        "py_SEX2GOL:  Output catalog name:      icar02hbf_flt_2.cat  "
       ]
      },
      {
       "output_type": "stream",
       "stream": "stdout",
       "text": [
        "\n",
        "py_SEX2GOL:  Start processing ... "
       ]
      },
      {
       "output_type": "stream",
       "stream": "stdout",
       "text": [
        "     Done\n",
        "Setting up output name: "
       ]
      },
      {
       "output_type": "stream",
       "stream": "stdout",
       "text": [
        " icar02hcf_drz.fits\n",
        "Starting PyDrizzle Version  6.4.3  at  21:03:45 (11/03/2018)\n",
        "py_SEX2GOL:  Setup:\n",
        "py_SEX2GOL:  Input g/prism image:      icar02hcf_flt.fits\n",
        "py_SEX2GOL:  Configuration file name:  WFC3.IR.G141.V2.5.conf\n",
        "py_SEX2GOL:  Direct image:             icar02h3f_flt.fits\n",
        "py_SEX2GOL:  G/Prism extension:        2\n",
        "py_SEX2GOL:  Direct image extension:   2\n",
        "py_SEX2GOL:  Input catalog name:       /Users/10759054/projects/go13299/target1/DATA/icar02h3f_flt_1.cat\n",
        "py_SEX2GOL:  Output catalog name:      icar02hcf_flt_2.cat  "
       ]
      },
      {
       "output_type": "stream",
       "stream": "stdout",
       "text": [
        "\n",
        "py_SEX2GOL:  Start processing ... "
       ]
      },
      {
       "output_type": "stream",
       "stream": "stdout",
       "text": [
        "     Done\n",
        "Setting up output name: "
       ]
      },
      {
       "output_type": "stream",
       "stream": "stdout",
       "text": [
        " icar02hef_drz.fits\n",
        "Starting PyDrizzle Version  6.4.3  at  21:03:47 (11/03/2018)\n",
        "py_SEX2GOL:  Setup:\n",
        "py_SEX2GOL:  Input g/prism image:      icar02hef_flt.fits\n",
        "py_SEX2GOL:  Configuration file name:  WFC3.IR.G141.V2.5.conf\n",
        "py_SEX2GOL:  Direct image:             icar02h3f_flt.fits\n",
        "py_SEX2GOL:  G/Prism extension:        2\n",
        "py_SEX2GOL:  Direct image extension:   2\n",
        "py_SEX2GOL:  Input catalog name:       /Users/10759054/projects/go13299/target1/DATA/icar02h3f_flt_1.cat\n",
        "py_SEX2GOL:  Output catalog name:      icar02hef_flt_2.cat  "
       ]
      },
      {
       "output_type": "stream",
       "stream": "stdout",
       "text": [
        "\n",
        "py_SEX2GOL:  Start processing ... "
       ]
      },
      {
       "output_type": "stream",
       "stream": "stdout",
       "text": [
        "     Done\n",
        "Setting up output name: "
       ]
      },
      {
       "output_type": "stream",
       "stream": "stdout",
       "text": [
        " icar02hff_drz.fits\n",
        "Starting PyDrizzle Version  6.4.3  at  21:03:49 (11/03/2018)\n",
        "py_SEX2GOL:  Setup:\n",
        "py_SEX2GOL:  Input g/prism image:      icar02hff_flt.fits\n",
        "py_SEX2GOL:  Configuration file name:  WFC3.IR.G141.V2.5.conf\n",
        "py_SEX2GOL:  Direct image:             icar02h3f_flt.fits\n",
        "py_SEX2GOL:  G/Prism extension:        2\n",
        "py_SEX2GOL:  Direct image extension:   2\n",
        "py_SEX2GOL:  Input catalog name:       /Users/10759054/projects/go13299/target1/DATA/icar02h3f_flt_1.cat\n",
        "py_SEX2GOL:  Output catalog name:      icar02hff_flt_2.cat  "
       ]
      },
      {
       "output_type": "stream",
       "stream": "stdout",
       "text": [
        "\n",
        "py_SEX2GOL:  Start processing ... "
       ]
      },
      {
       "output_type": "stream",
       "stream": "stdout",
       "text": [
        "     Done\n",
        "Setting up output name: "
       ]
      },
      {
       "output_type": "stream",
       "stream": "stdout",
       "text": [
        " icar02hgf_drz.fits\n",
        "Starting PyDrizzle Version  6.4.3  at  21:03:51 (11/03/2018)\n",
        "py_SEX2GOL:  Setup:\n",
        "py_SEX2GOL:  Input g/prism image:      icar02hgf_flt.fits\n",
        "py_SEX2GOL:  Configuration file name:  WFC3.IR.G141.V2.5.conf\n",
        "py_SEX2GOL:  Direct image:             icar02h3f_flt.fits\n",
        "py_SEX2GOL:  G/Prism extension:        2\n",
        "py_SEX2GOL:  Direct image extension:   2\n",
        "py_SEX2GOL:  Input catalog name:       /Users/10759054/projects/go13299/target1/DATA/icar02h3f_flt_1.cat\n",
        "py_SEX2GOL:  Output catalog name:      icar02hgf_flt_2.cat  "
       ]
      },
      {
       "output_type": "stream",
       "stream": "stdout",
       "text": [
        "\n",
        "py_SEX2GOL:  Start processing ... "
       ]
      },
      {
       "output_type": "stream",
       "stream": "stdout",
       "text": [
        "     Done\n",
        "Setting up output name: "
       ]
      },
      {
       "output_type": "stream",
       "stream": "stdout",
       "text": [
        " icar02hhf_drz.fits\n",
        "Starting PyDrizzle Version  6.4.3  at  21:03:53 (11/03/2018)\n",
        "py_SEX2GOL:  Setup:\n",
        "py_SEX2GOL:  Input g/prism image:      icar02hhf_flt.fits\n",
        "py_SEX2GOL:  Configuration file name:  WFC3.IR.G141.V2.5.conf\n",
        "py_SEX2GOL:  Direct image:             icar02h3f_flt.fits\n",
        "py_SEX2GOL:  G/Prism extension:        2\n",
        "py_SEX2GOL:  Direct image extension:   2\n",
        "py_SEX2GOL:  Input catalog name:       /Users/10759054/projects/go13299/target1/DATA/icar02h3f_flt_1.cat\n",
        "py_SEX2GOL:  Output catalog name:      icar02hhf_flt_2.cat  "
       ]
      },
      {
       "output_type": "stream",
       "stream": "stdout",
       "text": [
        "\n",
        "py_SEX2GOL:  Start processing ... "
       ]
      },
      {
       "output_type": "stream",
       "stream": "stdout",
       "text": [
        "     Done\n",
        "Setting up output name: "
       ]
      },
      {
       "output_type": "stream",
       "stream": "stdout",
       "text": [
        " icar02hif_drz.fits\n",
        "Starting PyDrizzle Version  6.4.3  at  21:03:56 (11/03/2018)\n",
        "py_SEX2GOL:  Setup:\n",
        "py_SEX2GOL:  Input g/prism image:      icar02hif_flt.fits\n",
        "py_SEX2GOL:  Configuration file name:  WFC3.IR.G141.V2.5.conf\n",
        "py_SEX2GOL:  Direct image:             icar02h3f_flt.fits\n",
        "py_SEX2GOL:  G/Prism extension:        2\n",
        "py_SEX2GOL:  Direct image extension:   2\n",
        "py_SEX2GOL:  Input catalog name:       /Users/10759054/projects/go13299/target1/DATA/icar02h3f_flt_1.cat\n",
        "py_SEX2GOL:  Output catalog name:      icar02hif_flt_2.cat  "
       ]
      },
      {
       "output_type": "stream",
       "stream": "stdout",
       "text": [
        "\n",
        "py_SEX2GOL:  Start processing ... "
       ]
      },
      {
       "output_type": "stream",
       "stream": "stdout",
       "text": [
        "     Done\n",
        "Setting up output name: "
       ]
      },
      {
       "output_type": "stream",
       "stream": "stdout",
       "text": [
        " icar02hjf_drz.fits\n",
        "Starting PyDrizzle Version  6.4.3  at  21:04:00 (11/03/2018)\n",
        "py_SEX2GOL:  Setup:\n",
        "py_SEX2GOL:  Input g/prism image:      icar02hjf_flt.fits\n",
        "py_SEX2GOL:  Configuration file name:  WFC3.IR.G141.V2.5.conf\n",
        "py_SEX2GOL:  Direct image:             icar02h3f_flt.fits\n",
        "py_SEX2GOL:  G/Prism extension:        2\n",
        "py_SEX2GOL:  Direct image extension:   2\n",
        "py_SEX2GOL:  Input catalog name:       /Users/10759054/projects/go13299/target1/DATA/icar02h3f_flt_1.cat\n",
        "py_SEX2GOL:  Output catalog name:      icar02hjf_flt_2.cat  "
       ]
      },
      {
       "output_type": "stream",
       "stream": "stdout",
       "text": [
        "\n",
        "py_SEX2GOL:  Start processing ... "
       ]
      },
      {
       "output_type": "stream",
       "stream": "stdout",
       "text": [
        "     Done\n",
        "Setting up output name: "
       ]
      },
      {
       "output_type": "stream",
       "stream": "stdout",
       "text": [
        " icar02hkf_drz.fits\n",
        "Starting PyDrizzle Version  6.4.3  at  21:04:03 (11/03/2018)\n",
        "py_SEX2GOL:  Setup:\n",
        "py_SEX2GOL:  Input g/prism image:      icar02hkf_flt.fits\n",
        "py_SEX2GOL:  Configuration file name:  WFC3.IR.G141.V2.5.conf\n",
        "py_SEX2GOL:  Direct image:             icar02h3f_flt.fits\n",
        "py_SEX2GOL:  G/Prism extension:        2\n",
        "py_SEX2GOL:  Direct image extension:   2\n",
        "py_SEX2GOL:  Input catalog name:       /Users/10759054/projects/go13299/target1/DATA/icar02h3f_flt_1.cat\n",
        "py_SEX2GOL:  Output catalog name:      icar02hkf_flt_2.cat  "
       ]
      },
      {
       "output_type": "stream",
       "stream": "stdout",
       "text": [
        "\n",
        "py_SEX2GOL:  Start processing ... "
       ]
      },
      {
       "output_type": "stream",
       "stream": "stdout",
       "text": [
        "     Done\n",
        "Setting up output name: "
       ]
      },
      {
       "output_type": "stream",
       "stream": "stdout",
       "text": [
        " icar02hlf_drz.fits\n",
        "Starting PyDrizzle Version  6.4.3  at  21:04:06 (11/03/2018)\n",
        "py_SEX2GOL:  Setup:\n",
        "py_SEX2GOL:  Input g/prism image:      icar02hlf_flt.fits\n",
        "py_SEX2GOL:  Configuration file name:  WFC3.IR.G141.V2.5.conf\n",
        "py_SEX2GOL:  Direct image:             icar02h3f_flt.fits\n",
        "py_SEX2GOL:  G/Prism extension:        2\n",
        "py_SEX2GOL:  Direct image extension:   2\n",
        "py_SEX2GOL:  Input catalog name:       /Users/10759054/projects/go13299/target1/DATA/icar02h3f_flt_1.cat\n",
        "py_SEX2GOL:  Output catalog name:      icar02hlf_flt_2.cat  "
       ]
      },
      {
       "output_type": "stream",
       "stream": "stdout",
       "text": [
        "\n",
        "py_SEX2GOL:  Start processing ... "
       ]
      },
      {
       "output_type": "stream",
       "stream": "stdout",
       "text": [
        "     Done\n",
        "Setting up output name: "
       ]
      },
      {
       "output_type": "stream",
       "stream": "stdout",
       "text": [
        " icar02hmf_drz.fits\n",
        "Starting PyDrizzle Version  6.4.3  at  21:04:08 (11/03/2018)\n",
        "py_SEX2GOL:  Setup:\n",
        "py_SEX2GOL:  Input g/prism image:      icar02hmf_flt.fits\n",
        "py_SEX2GOL:  Configuration file name:  WFC3.IR.G141.V2.5.conf\n",
        "py_SEX2GOL:  Direct image:             icar02h3f_flt.fits\n",
        "py_SEX2GOL:  G/Prism extension:        2\n",
        "py_SEX2GOL:  Direct image extension:   2\n",
        "py_SEX2GOL:  Input catalog name:       /Users/10759054/projects/go13299/target1/DATA/icar02h3f_flt_1.cat\n",
        "py_SEX2GOL:  Output catalog name:      icar02hmf_flt_2.cat  "
       ]
      },
      {
       "output_type": "stream",
       "stream": "stdout",
       "text": [
        "\n",
        "py_SEX2GOL:  Start processing ... "
       ]
      },
      {
       "output_type": "stream",
       "stream": "stdout",
       "text": [
        "     Done\n",
        "Setting up output name: "
       ]
      },
      {
       "output_type": "stream",
       "stream": "stdout",
       "text": [
        " icar02hof_drz.fits\n",
        "Starting PyDrizzle Version  6.4.3  at  21:04:11 (11/03/2018)\n",
        "py_SEX2GOL:  Setup:\n",
        "py_SEX2GOL:  Input g/prism image:      icar02hof_flt.fits\n",
        "py_SEX2GOL:  Configuration file name:  WFC3.IR.G141.V2.5.conf\n",
        "py_SEX2GOL:  Direct image:             icar02h3f_flt.fits\n",
        "py_SEX2GOL:  G/Prism extension:        2\n",
        "py_SEX2GOL:  Direct image extension:   2\n",
        "py_SEX2GOL:  Input catalog name:       /Users/10759054/projects/go13299/target1/DATA/icar02h3f_flt_1.cat\n",
        "py_SEX2GOL:  Output catalog name:      icar02hof_flt_2.cat  "
       ]
      },
      {
       "output_type": "stream",
       "stream": "stdout",
       "text": [
        "\n",
        "py_SEX2GOL:  Start processing ... "
       ]
      },
      {
       "output_type": "stream",
       "stream": "stdout",
       "text": [
        "     Done\n",
        "Setting up output name: "
       ]
      },
      {
       "output_type": "stream",
       "stream": "stdout",
       "text": [
        " icar02hpf_drz.fits\n",
        "Starting PyDrizzle Version  6.4.3  at  21:04:13 (11/03/2018)\n",
        "py_SEX2GOL:  Setup:\n",
        "py_SEX2GOL:  Input g/prism image:      icar02hpf_flt.fits\n",
        "py_SEX2GOL:  Configuration file name:  WFC3.IR.G141.V2.5.conf\n",
        "py_SEX2GOL:  Direct image:             icar02h3f_flt.fits\n",
        "py_SEX2GOL:  G/Prism extension:        2\n",
        "py_SEX2GOL:  Direct image extension:   2\n",
        "py_SEX2GOL:  Input catalog name:       /Users/10759054/projects/go13299/target1/DATA/icar02h3f_flt_1.cat\n",
        "py_SEX2GOL:  Output catalog name:      icar02hpf_flt_2.cat  "
       ]
      },
      {
       "output_type": "stream",
       "stream": "stdout",
       "text": [
        "\n",
        "py_SEX2GOL:  Start processing ... "
       ]
      },
      {
       "output_type": "stream",
       "stream": "stdout",
       "text": [
        "     Done\n",
        "Setting up output name: "
       ]
      },
      {
       "output_type": "stream",
       "stream": "stdout",
       "text": [
        " icar02hqf_drz.fits\n",
        "Starting PyDrizzle Version  6.4.3  at  21:04:16 (11/03/2018)\n",
        "py_SEX2GOL:  Setup:\n",
        "py_SEX2GOL:  Input g/prism image:      icar02hqf_flt.fits\n",
        "py_SEX2GOL:  Configuration file name:  WFC3.IR.G141.V2.5.conf\n",
        "py_SEX2GOL:  Direct image:             icar02h3f_flt.fits\n",
        "py_SEX2GOL:  G/Prism extension:        2\n",
        "py_SEX2GOL:  Direct image extension:   2\n",
        "py_SEX2GOL:  Input catalog name:       /Users/10759054/projects/go13299/target1/DATA/icar02h3f_flt_1.cat\n",
        "py_SEX2GOL:  Output catalog name:      icar02hqf_flt_2.cat  "
       ]
      },
      {
       "output_type": "stream",
       "stream": "stdout",
       "text": [
        "\n",
        "py_SEX2GOL:  Start processing ... "
       ]
      },
      {
       "output_type": "stream",
       "stream": "stdout",
       "text": [
        "     Done\n",
        "Setting up output name: "
       ]
      },
      {
       "output_type": "stream",
       "stream": "stdout",
       "text": [
        " icar02hrf_drz.fits\n",
        "Starting PyDrizzle Version  6.4.3  at  21:04:18 (11/03/2018)\n",
        "py_SEX2GOL:  Setup:\n",
        "py_SEX2GOL:  Input g/prism image:      icar02hrf_flt.fits\n",
        "py_SEX2GOL:  Configuration file name:  WFC3.IR.G141.V2.5.conf\n",
        "py_SEX2GOL:  Direct image:             icar02h3f_flt.fits\n",
        "py_SEX2GOL:  G/Prism extension:        2\n",
        "py_SEX2GOL:  Direct image extension:   2\n",
        "py_SEX2GOL:  Input catalog name:       /Users/10759054/projects/go13299/target1/DATA/icar02h3f_flt_1.cat\n",
        "py_SEX2GOL:  Output catalog name:      icar02hrf_flt_2.cat  "
       ]
      },
      {
       "output_type": "stream",
       "stream": "stdout",
       "text": [
        "\n",
        "py_SEX2GOL:  Start processing ... "
       ]
      },
      {
       "output_type": "stream",
       "stream": "stdout",
       "text": [
        "     Done\n",
        "Setting up output name: "
       ]
      },
      {
       "output_type": "stream",
       "stream": "stdout",
       "text": [
        " icar02huf_drz.fits\n",
        "Starting PyDrizzle Version  6.4.3  at  21:04:21 (11/03/2018)\n",
        "py_SEX2GOL:  Setup:\n",
        "py_SEX2GOL:  Input g/prism image:      icar02huf_flt.fits\n",
        "py_SEX2GOL:  Configuration file name:  WFC3.IR.G141.V2.5.conf\n",
        "py_SEX2GOL:  Direct image:             icar02htf_flt.fits\n",
        "py_SEX2GOL:  G/Prism extension:        2\n",
        "py_SEX2GOL:  Direct image extension:   2\n",
        "py_SEX2GOL:  Input catalog name:       /Users/10759054/projects/go13299/target1/DATA/icar02htf_flt_1.cat\n",
        "py_SEX2GOL:  Output catalog name:      icar02huf_flt_2.cat  "
       ]
      },
      {
       "output_type": "stream",
       "stream": "stdout",
       "text": [
        "\n",
        "py_SEX2GOL:  Start processing ... "
       ]
      },
      {
       "output_type": "stream",
       "stream": "stdout",
       "text": [
        "     Done\n",
        "Setting up output name: "
       ]
      },
      {
       "output_type": "stream",
       "stream": "stdout",
       "text": [
        " icar02hvf_drz.fits\n",
        "Starting PyDrizzle Version  6.4.3  at  21:04:24 (11/03/2018)\n",
        "py_SEX2GOL:  Setup:\n",
        "py_SEX2GOL:  Input g/prism image:      icar02hvf_flt.fits\n",
        "py_SEX2GOL:  Configuration file name:  WFC3.IR.G141.V2.5.conf\n",
        "py_SEX2GOL:  Direct image:             icar02htf_flt.fits\n",
        "py_SEX2GOL:  G/Prism extension:        2\n",
        "py_SEX2GOL:  Direct image extension:   2\n",
        "py_SEX2GOL:  Input catalog name:       /Users/10759054/projects/go13299/target1/DATA/icar02htf_flt_1.cat\n",
        "py_SEX2GOL:  Output catalog name:      icar02hvf_flt_2.cat  "
       ]
      },
      {
       "output_type": "stream",
       "stream": "stdout",
       "text": [
        "\n",
        "py_SEX2GOL:  Start processing ... "
       ]
      },
      {
       "output_type": "stream",
       "stream": "stdout",
       "text": [
        "     Done\n",
        "Setting up output name: "
       ]
      },
      {
       "output_type": "stream",
       "stream": "stdout",
       "text": [
        " icar02hwf_drz.fits\n",
        "Starting PyDrizzle Version  6.4.3  at  21:04:26 (11/03/2018)\n",
        "py_SEX2GOL:  Setup:\n",
        "py_SEX2GOL:  Input g/prism image:      icar02hwf_flt.fits\n",
        "py_SEX2GOL:  Configuration file name:  WFC3.IR.G141.V2.5.conf\n",
        "py_SEX2GOL:  Direct image:             icar02htf_flt.fits\n",
        "py_SEX2GOL:  G/Prism extension:        2\n",
        "py_SEX2GOL:  Direct image extension:   2\n",
        "py_SEX2GOL:  Input catalog name:       /Users/10759054/projects/go13299/target1/DATA/icar02htf_flt_1.cat\n",
        "py_SEX2GOL:  Output catalog name:      icar02hwf_flt_2.cat  "
       ]
      },
      {
       "output_type": "stream",
       "stream": "stdout",
       "text": [
        "\n",
        "py_SEX2GOL:  Start processing ... "
       ]
      },
      {
       "output_type": "stream",
       "stream": "stdout",
       "text": [
        "     Done\n",
        "Setting up output name: "
       ]
      },
      {
       "output_type": "stream",
       "stream": "stdout",
       "text": [
        " icar02hxf_drz.fits\n",
        "Starting PyDrizzle Version  6.4.3  at  21:04:28 (11/03/2018)\n",
        "py_SEX2GOL:  Setup:\n",
        "py_SEX2GOL:  Input g/prism image:      icar02hxf_flt.fits\n",
        "py_SEX2GOL:  Configuration file name:  WFC3.IR.G141.V2.5.conf\n",
        "py_SEX2GOL:  Direct image:             icar02htf_flt.fits\n",
        "py_SEX2GOL:  G/Prism extension:        2\n",
        "py_SEX2GOL:  Direct image extension:   2\n",
        "py_SEX2GOL:  Input catalog name:       /Users/10759054/projects/go13299/target1/DATA/icar02htf_flt_1.cat\n",
        "py_SEX2GOL:  Output catalog name:      icar02hxf_flt_2.cat  "
       ]
      },
      {
       "output_type": "stream",
       "stream": "stdout",
       "text": [
        "\n",
        "py_SEX2GOL:  Start processing ... "
       ]
      },
      {
       "output_type": "stream",
       "stream": "stdout",
       "text": [
        "     Done\n",
        "Setting up output name: "
       ]
      },
      {
       "output_type": "stream",
       "stream": "stdout",
       "text": [
        " icar02hzf_drz.fits\n",
        "Starting PyDrizzle Version  6.4.3  at  21:04:30 (11/03/2018)\n",
        "py_SEX2GOL:  Setup:\n",
        "py_SEX2GOL:  Input g/prism image:      icar02hzf_flt.fits\n",
        "py_SEX2GOL:  Configuration file name:  WFC3.IR.G141.V2.5.conf\n",
        "py_SEX2GOL:  Direct image:             icar02htf_flt.fits\n",
        "py_SEX2GOL:  G/Prism extension:        2\n",
        "py_SEX2GOL:  Direct image extension:   2\n",
        "py_SEX2GOL:  Input catalog name:       /Users/10759054/projects/go13299/target1/DATA/icar02htf_flt_1.cat\n",
        "py_SEX2GOL:  Output catalog name:      icar02hzf_flt_2.cat  "
       ]
      },
      {
       "output_type": "stream",
       "stream": "stdout",
       "text": [
        "\n",
        "py_SEX2GOL:  Start processing ... "
       ]
      },
      {
       "output_type": "stream",
       "stream": "stdout",
       "text": [
        "     Done\n",
        "Setting up output name: "
       ]
      },
      {
       "output_type": "stream",
       "stream": "stdout",
       "text": [
        " icar02i0f_drz.fits\n",
        "Starting PyDrizzle Version  6.4.3  at  21:04:32 (11/03/2018)\n",
        "py_SEX2GOL:  Setup:\n",
        "py_SEX2GOL:  Input g/prism image:      icar02i0f_flt.fits\n",
        "py_SEX2GOL:  Configuration file name:  WFC3.IR.G141.V2.5.conf\n",
        "py_SEX2GOL:  Direct image:             icar02htf_flt.fits\n",
        "py_SEX2GOL:  G/Prism extension:        2\n",
        "py_SEX2GOL:  Direct image extension:   2\n",
        "py_SEX2GOL:  Input catalog name:       /Users/10759054/projects/go13299/target1/DATA/icar02htf_flt_1.cat\n",
        "py_SEX2GOL:  Output catalog name:      icar02i0f_flt_2.cat  "
       ]
      },
      {
       "output_type": "stream",
       "stream": "stdout",
       "text": [
        "\n",
        "py_SEX2GOL:  Start processing ... "
       ]
      },
      {
       "output_type": "stream",
       "stream": "stdout",
       "text": [
        "     Done\n",
        "Setting up output name: "
       ]
      },
      {
       "output_type": "stream",
       "stream": "stdout",
       "text": [
        " icar02i1f_drz.fits\n",
        "Starting PyDrizzle Version  6.4.3  at  21:04:34 (11/03/2018)\n",
        "py_SEX2GOL:  Setup:\n",
        "py_SEX2GOL:  Input g/prism image:      icar02i1f_flt.fits\n",
        "py_SEX2GOL:  Configuration file name:  WFC3.IR.G141.V2.5.conf\n",
        "py_SEX2GOL:  Direct image:             icar02htf_flt.fits\n",
        "py_SEX2GOL:  G/Prism extension:        2\n",
        "py_SEX2GOL:  Direct image extension:   2\n",
        "py_SEX2GOL:  Input catalog name:       /Users/10759054/projects/go13299/target1/DATA/icar02htf_flt_1.cat\n",
        "py_SEX2GOL:  Output catalog name:      icar02i1f_flt_2.cat  "
       ]
      },
      {
       "output_type": "stream",
       "stream": "stdout",
       "text": [
        "\n",
        "py_SEX2GOL:  Start processing ... "
       ]
      },
      {
       "output_type": "stream",
       "stream": "stdout",
       "text": [
        "     Done\n",
        "Setting up output name: "
       ]
      },
      {
       "output_type": "stream",
       "stream": "stdout",
       "text": [
        " icar02i2f_drz.fits\n",
        "Starting PyDrizzle Version  6.4.3  at  21:04:37 (11/03/2018)\n",
        "py_SEX2GOL:  Setup:\n",
        "py_SEX2GOL:  Input g/prism image:      icar02i2f_flt.fits\n",
        "py_SEX2GOL:  Configuration file name:  WFC3.IR.G141.V2.5.conf\n",
        "py_SEX2GOL:  Direct image:             icar02htf_flt.fits\n",
        "py_SEX2GOL:  G/Prism extension:        2\n",
        "py_SEX2GOL:  Direct image extension:   2\n",
        "py_SEX2GOL:  Input catalog name:       /Users/10759054/projects/go13299/target1/DATA/icar02htf_flt_1.cat\n",
        "py_SEX2GOL:  Output catalog name:      icar02i2f_flt_2.cat  "
       ]
      },
      {
       "output_type": "stream",
       "stream": "stdout",
       "text": [
        "\n",
        "py_SEX2GOL:  Start processing ... "
       ]
      },
      {
       "output_type": "stream",
       "stream": "stdout",
       "text": [
        "     Done\n",
        "Setting up output name: "
       ]
      },
      {
       "output_type": "stream",
       "stream": "stdout",
       "text": [
        " icar02i3f_drz.fits\n",
        "Starting PyDrizzle Version  6.4.3  at  21:04:39 (11/03/2018)\n",
        "py_SEX2GOL:  Setup:\n",
        "py_SEX2GOL:  Input g/prism image:      icar02i3f_flt.fits\n",
        "py_SEX2GOL:  Configuration file name:  WFC3.IR.G141.V2.5.conf\n",
        "py_SEX2GOL:  Direct image:             icar02htf_flt.fits\n",
        "py_SEX2GOL:  G/Prism extension:        2\n",
        "py_SEX2GOL:  Direct image extension:   2\n",
        "py_SEX2GOL:  Input catalog name:       /Users/10759054/projects/go13299/target1/DATA/icar02htf_flt_1.cat\n",
        "py_SEX2GOL:  Output catalog name:      icar02i3f_flt_2.cat  "
       ]
      },
      {
       "output_type": "stream",
       "stream": "stdout",
       "text": [
        "\n",
        "py_SEX2GOL:  Start processing ... "
       ]
      },
      {
       "output_type": "stream",
       "stream": "stdout",
       "text": [
        "     Done\n",
        "Setting up output name: "
       ]
      },
      {
       "output_type": "stream",
       "stream": "stdout",
       "text": [
        " icar02i4f_drz.fits\n",
        "Starting PyDrizzle Version  6.4.3  at  21:04:41 (11/03/2018)\n",
        "py_SEX2GOL:  Setup:\n",
        "py_SEX2GOL:  Input g/prism image:      icar02i4f_flt.fits\n",
        "py_SEX2GOL:  Configuration file name:  WFC3.IR.G141.V2.5.conf\n",
        "py_SEX2GOL:  Direct image:             icar02htf_flt.fits\n",
        "py_SEX2GOL:  G/Prism extension:        2\n",
        "py_SEX2GOL:  Direct image extension:   2\n",
        "py_SEX2GOL:  Input catalog name:       /Users/10759054/projects/go13299/target1/DATA/icar02htf_flt_1.cat\n",
        "py_SEX2GOL:  Output catalog name:      icar02i4f_flt_2.cat  "
       ]
      },
      {
       "output_type": "stream",
       "stream": "stdout",
       "text": [
        "\n",
        "py_SEX2GOL:  Start processing ... "
       ]
      },
      {
       "output_type": "stream",
       "stream": "stdout",
       "text": [
        "     Done\n",
        "Setting up output name: "
       ]
      },
      {
       "output_type": "stream",
       "stream": "stdout",
       "text": [
        " icar02i5f_drz.fits\n",
        "Starting PyDrizzle Version  6.4.3  at  21:04:43 (11/03/2018)\n",
        "py_SEX2GOL:  Setup:\n",
        "py_SEX2GOL:  Input g/prism image:      icar02i5f_flt.fits\n",
        "py_SEX2GOL:  Configuration file name:  WFC3.IR.G141.V2.5.conf\n",
        "py_SEX2GOL:  Direct image:             icar02htf_flt.fits\n",
        "py_SEX2GOL:  G/Prism extension:        2\n",
        "py_SEX2GOL:  Direct image extension:   2\n",
        "py_SEX2GOL:  Input catalog name:       /Users/10759054/projects/go13299/target1/DATA/icar02htf_flt_1.cat\n",
        "py_SEX2GOL:  Output catalog name:      icar02i5f_flt_2.cat  "
       ]
      },
      {
       "output_type": "stream",
       "stream": "stdout",
       "text": [
        "\n",
        "py_SEX2GOL:  Start processing ... "
       ]
      },
      {
       "output_type": "stream",
       "stream": "stdout",
       "text": [
        "     Done\n",
        "Setting up output name: "
       ]
      },
      {
       "output_type": "stream",
       "stream": "stdout",
       "text": [
        " icar02i6f_drz.fits\n",
        "Starting PyDrizzle Version  6.4.3  at  21:04:45 (11/03/2018)\n",
        "py_SEX2GOL:  Setup:\n",
        "py_SEX2GOL:  Input g/prism image:      icar02i6f_flt.fits\n",
        "py_SEX2GOL:  Configuration file name:  WFC3.IR.G141.V2.5.conf\n",
        "py_SEX2GOL:  Direct image:             icar02htf_flt.fits\n",
        "py_SEX2GOL:  G/Prism extension:        2\n",
        "py_SEX2GOL:  Direct image extension:   2\n",
        "py_SEX2GOL:  Input catalog name:       /Users/10759054/projects/go13299/target1/DATA/icar02htf_flt_1.cat\n",
        "py_SEX2GOL:  Output catalog name:      icar02i6f_flt_2.cat  "
       ]
      },
      {
       "output_type": "stream",
       "stream": "stdout",
       "text": [
        "\n",
        "py_SEX2GOL:  Start processing ... "
       ]
      },
      {
       "output_type": "stream",
       "stream": "stdout",
       "text": [
        "     Done\n",
        "Setting up output name: "
       ]
      },
      {
       "output_type": "stream",
       "stream": "stdout",
       "text": [
        " icar02i7f_drz.fits\n",
        "Starting PyDrizzle Version  6.4.3  at  21:04:48 (11/03/2018)\n",
        "py_SEX2GOL:  Setup:\n",
        "py_SEX2GOL:  Input g/prism image:      icar02i7f_flt.fits\n",
        "py_SEX2GOL:  Configuration file name:  WFC3.IR.G141.V2.5.conf\n",
        "py_SEX2GOL:  Direct image:             icar02htf_flt.fits\n",
        "py_SEX2GOL:  G/Prism extension:        2\n",
        "py_SEX2GOL:  Direct image extension:   2\n",
        "py_SEX2GOL:  Input catalog name:       /Users/10759054/projects/go13299/target1/DATA/icar02htf_flt_1.cat\n",
        "py_SEX2GOL:  Output catalog name:      icar02i7f_flt_2.cat  "
       ]
      },
      {
       "output_type": "stream",
       "stream": "stdout",
       "text": [
        "\n",
        "py_SEX2GOL:  Start processing ... "
       ]
      },
      {
       "output_type": "stream",
       "stream": "stdout",
       "text": [
        "     Done\n",
        "Setting up output name: "
       ]
      },
      {
       "output_type": "stream",
       "stream": "stdout",
       "text": [
        " icar02i9f_drz.fits\n",
        "Starting PyDrizzle Version  6.4.3  at  21:04:50 (11/03/2018)\n",
        "py_SEX2GOL:  Setup:\n",
        "py_SEX2GOL:  Input g/prism image:      icar02i9f_flt.fits\n",
        "py_SEX2GOL:  Configuration file name:  WFC3.IR.G141.V2.5.conf\n",
        "py_SEX2GOL:  Direct image:             icar02htf_flt.fits\n",
        "py_SEX2GOL:  G/Prism extension:        2\n",
        "py_SEX2GOL:  Direct image extension:   2\n",
        "py_SEX2GOL:  Input catalog name:       /Users/10759054/projects/go13299/target1/DATA/icar02htf_flt_1.cat\n",
        "py_SEX2GOL:  Output catalog name:      icar02i9f_flt_2.cat  "
       ]
      },
      {
       "output_type": "stream",
       "stream": "stdout",
       "text": [
        "\n",
        "py_SEX2GOL:  Start processing ... "
       ]
      },
      {
       "output_type": "stream",
       "stream": "stdout",
       "text": [
        "     Done\n",
        "Setting up output name: "
       ]
      },
      {
       "output_type": "stream",
       "stream": "stdout",
       "text": [
        " icar02iaf_drz.fits\n",
        "Starting PyDrizzle Version  6.4.3  at  21:04:52 (11/03/2018)\n",
        "py_SEX2GOL:  Setup:\n",
        "py_SEX2GOL:  Input g/prism image:      icar02iaf_flt.fits\n",
        "py_SEX2GOL:  Configuration file name:  WFC3.IR.G141.V2.5.conf\n",
        "py_SEX2GOL:  Direct image:             icar02htf_flt.fits\n",
        "py_SEX2GOL:  G/Prism extension:        2\n",
        "py_SEX2GOL:  Direct image extension:   2\n",
        "py_SEX2GOL:  Input catalog name:       /Users/10759054/projects/go13299/target1/DATA/icar02htf_flt_1.cat\n",
        "py_SEX2GOL:  Output catalog name:      icar02iaf_flt_2.cat  "
       ]
      },
      {
       "output_type": "stream",
       "stream": "stdout",
       "text": [
        "\n",
        "py_SEX2GOL:  Start processing ... "
       ]
      },
      {
       "output_type": "stream",
       "stream": "stdout",
       "text": [
        "     Done\n",
        "Setting up output name: "
       ]
      },
      {
       "output_type": "stream",
       "stream": "stdout",
       "text": [
        " icar02ibf_drz.fits\n",
        "Starting PyDrizzle Version  6.4.3  at  21:04:55 (11/03/2018)\n",
        "py_SEX2GOL:  Setup:\n",
        "py_SEX2GOL:  Input g/prism image:      icar02ibf_flt.fits\n",
        "py_SEX2GOL:  Configuration file name:  WFC3.IR.G141.V2.5.conf\n",
        "py_SEX2GOL:  Direct image:             icar02htf_flt.fits\n",
        "py_SEX2GOL:  G/Prism extension:        2\n",
        "py_SEX2GOL:  Direct image extension:   2\n",
        "py_SEX2GOL:  Input catalog name:       /Users/10759054/projects/go13299/target1/DATA/icar02htf_flt_1.cat\n",
        "py_SEX2GOL:  Output catalog name:      icar02ibf_flt_2.cat  "
       ]
      },
      {
       "output_type": "stream",
       "stream": "stdout",
       "text": [
        "\n",
        "py_SEX2GOL:  Start processing ... "
       ]
      },
      {
       "output_type": "stream",
       "stream": "stdout",
       "text": [
        "     Done\n",
        "Setting up output name: "
       ]
      },
      {
       "output_type": "stream",
       "stream": "stdout",
       "text": [
        " icar02icf_drz.fits\n",
        "Starting PyDrizzle Version  6.4.3  at  21:04:57 (11/03/2018)\n",
        "py_SEX2GOL:  Setup:\n",
        "py_SEX2GOL:  Input g/prism image:      icar02icf_flt.fits\n",
        "py_SEX2GOL:  Configuration file name:  WFC3.IR.G141.V2.5.conf\n",
        "py_SEX2GOL:  Direct image:             icar02htf_flt.fits\n",
        "py_SEX2GOL:  G/Prism extension:        2\n",
        "py_SEX2GOL:  Direct image extension:   2\n",
        "py_SEX2GOL:  Input catalog name:       /Users/10759054/projects/go13299/target1/DATA/icar02htf_flt_1.cat\n",
        "py_SEX2GOL:  Output catalog name:      icar02icf_flt_2.cat  "
       ]
      },
      {
       "output_type": "stream",
       "stream": "stdout",
       "text": [
        "\n",
        "py_SEX2GOL:  Start processing ... "
       ]
      },
      {
       "output_type": "stream",
       "stream": "stdout",
       "text": [
        "     Done\n",
        "Setting up output name: "
       ]
      },
      {
       "output_type": "stream",
       "stream": "stdout",
       "text": [
        " icar02idf_drz.fits\n",
        "Starting PyDrizzle Version  6.4.3  at  21:05:00 (11/03/2018)\n",
        "py_SEX2GOL:  Setup:\n",
        "py_SEX2GOL:  Input g/prism image:      icar02idf_flt.fits\n",
        "py_SEX2GOL:  Configuration file name:  WFC3.IR.G141.V2.5.conf\n",
        "py_SEX2GOL:  Direct image:             icar02htf_flt.fits\n",
        "py_SEX2GOL:  G/Prism extension:        2\n",
        "py_SEX2GOL:  Direct image extension:   2\n",
        "py_SEX2GOL:  Input catalog name:       /Users/10759054/projects/go13299/target1/DATA/icar02htf_flt_1.cat\n",
        "py_SEX2GOL:  Output catalog name:      icar02idf_flt_2.cat  "
       ]
      },
      {
       "output_type": "stream",
       "stream": "stdout",
       "text": [
        "\n",
        "py_SEX2GOL:  Start processing ... "
       ]
      },
      {
       "output_type": "stream",
       "stream": "stdout",
       "text": [
        "     Done\n",
        "Setting up output name: "
       ]
      },
      {
       "output_type": "stream",
       "stream": "stdout",
       "text": [
        " icar02ief_drz.fits\n",
        "Starting PyDrizzle Version  6.4.3  at  21:05:03 (11/03/2018)\n",
        "py_SEX2GOL:  Setup:\n",
        "py_SEX2GOL:  Input g/prism image:      icar02ief_flt.fits\n",
        "py_SEX2GOL:  Configuration file name:  WFC3.IR.G141.V2.5.conf\n",
        "py_SEX2GOL:  Direct image:             icar02htf_flt.fits\n",
        "py_SEX2GOL:  G/Prism extension:        2\n",
        "py_SEX2GOL:  Direct image extension:   2\n",
        "py_SEX2GOL:  Input catalog name:       /Users/10759054/projects/go13299/target1/DATA/icar02htf_flt_1.cat\n",
        "py_SEX2GOL:  Output catalog name:      icar02ief_flt_2.cat  "
       ]
      },
      {
       "output_type": "stream",
       "stream": "stdout",
       "text": [
        "\n",
        "py_SEX2GOL:  Start processing ... "
       ]
      },
      {
       "output_type": "stream",
       "stream": "stdout",
       "text": [
        "     Done\n",
        "Setting up output name: "
       ]
      },
      {
       "output_type": "stream",
       "stream": "stdout",
       "text": [
        " icar02iff_drz.fits\n",
        "Starting PyDrizzle Version  6.4.3  at  21:05:06 (11/03/2018)\n",
        "py_SEX2GOL:  Setup:\n",
        "py_SEX2GOL:  Input g/prism image:      icar02iff_flt.fits\n",
        "py_SEX2GOL:  Configuration file name:  WFC3.IR.G141.V2.5.conf\n",
        "py_SEX2GOL:  Direct image:             icar02htf_flt.fits\n",
        "py_SEX2GOL:  G/Prism extension:        2\n",
        "py_SEX2GOL:  Direct image extension:   2\n",
        "py_SEX2GOL:  Input catalog name:       /Users/10759054/projects/go13299/target1/DATA/icar02htf_flt_1.cat\n",
        "py_SEX2GOL:  Output catalog name:      icar02iff_flt_2.cat  "
       ]
      },
      {
       "output_type": "stream",
       "stream": "stdout",
       "text": [
        "\n",
        "py_SEX2GOL:  Start processing ... "
       ]
      },
      {
       "output_type": "stream",
       "stream": "stdout",
       "text": [
        "     Done\n",
        "Setting up output name: "
       ]
      },
      {
       "output_type": "stream",
       "stream": "stdout",
       "text": [
        " icar02igf_drz.fits\n",
        "Starting PyDrizzle Version  6.4.3  at  21:05:08 (11/03/2018)\n",
        "py_SEX2GOL:  Setup:\n",
        "py_SEX2GOL:  Input g/prism image:      icar02igf_flt.fits\n",
        "py_SEX2GOL:  Configuration file name:  WFC3.IR.G141.V2.5.conf\n",
        "py_SEX2GOL:  Direct image:             icar02htf_flt.fits\n",
        "py_SEX2GOL:  G/Prism extension:        2\n",
        "py_SEX2GOL:  Direct image extension:   2\n",
        "py_SEX2GOL:  Input catalog name:       /Users/10759054/projects/go13299/target1/DATA/icar02htf_flt_1.cat\n",
        "py_SEX2GOL:  Output catalog name:      icar02igf_flt_2.cat  "
       ]
      },
      {
       "output_type": "stream",
       "stream": "stdout",
       "text": [
        "\n",
        "py_SEX2GOL:  Start processing ... "
       ]
      },
      {
       "output_type": "stream",
       "stream": "stdout",
       "text": [
        "     Done\n",
        "Setting up output name: "
       ]
      },
      {
       "output_type": "stream",
       "stream": "stdout",
       "text": [
        " icar02ihf_drz.fits\n",
        "Starting PyDrizzle Version  6.4.3  at  21:05:10 (11/03/2018)\n",
        "py_SEX2GOL:  Setup:\n",
        "py_SEX2GOL:  Input g/prism image:      icar02ihf_flt.fits\n",
        "py_SEX2GOL:  Configuration file name:  WFC3.IR.G141.V2.5.conf\n",
        "py_SEX2GOL:  Direct image:             icar02htf_flt.fits\n",
        "py_SEX2GOL:  G/Prism extension:        2\n",
        "py_SEX2GOL:  Direct image extension:   2\n",
        "py_SEX2GOL:  Input catalog name:       /Users/10759054/projects/go13299/target1/DATA/icar02htf_flt_1.cat\n",
        "py_SEX2GOL:  Output catalog name:      icar02ihf_flt_2.cat  "
       ]
      },
      {
       "output_type": "stream",
       "stream": "stdout",
       "text": [
        "\n",
        "py_SEX2GOL:  Start processing ... "
       ]
      },
      {
       "output_type": "stream",
       "stream": "stdout",
       "text": [
        "     Done\n",
        "Setting up output name: "
       ]
      },
      {
       "output_type": "stream",
       "stream": "stdout",
       "text": [
        " icar02ivf_drz.fits\n",
        "Starting PyDrizzle Version  6.4.3  at  21:05:12 (11/03/2018)\n",
        "py_SEX2GOL:  Setup:\n",
        "py_SEX2GOL:  Input g/prism image:      icar02ivf_flt.fits\n",
        "py_SEX2GOL:  Configuration file name:  WFC3.IR.G141.V2.5.conf\n",
        "py_SEX2GOL:  Direct image:             icar02iuf_flt.fits\n",
        "py_SEX2GOL:  G/Prism extension:        2\n",
        "py_SEX2GOL:  Direct image extension:   2\n",
        "py_SEX2GOL:  Input catalog name:       /Users/10759054/projects/go13299/target1/DATA/icar02iuf_flt_1.cat\n",
        "py_SEX2GOL:  Output catalog name:      icar02ivf_flt_2.cat  "
       ]
      },
      {
       "output_type": "stream",
       "stream": "stdout",
       "text": [
        "\n",
        "py_SEX2GOL:  Start processing ... "
       ]
      },
      {
       "output_type": "stream",
       "stream": "stdout",
       "text": [
        "     Done\n",
        "Setting up output name: "
       ]
      },
      {
       "output_type": "stream",
       "stream": "stdout",
       "text": [
        " icar02iwf_drz.fits\n",
        "Starting PyDrizzle Version  6.4.3  at  21:05:14 (11/03/2018)\n",
        "py_SEX2GOL:  Setup:\n",
        "py_SEX2GOL:  Input g/prism image:      icar02iwf_flt.fits\n",
        "py_SEX2GOL:  Configuration file name:  WFC3.IR.G141.V2.5.conf\n",
        "py_SEX2GOL:  Direct image:             icar02iuf_flt.fits\n",
        "py_SEX2GOL:  G/Prism extension:        2\n",
        "py_SEX2GOL:  Direct image extension:   2\n",
        "py_SEX2GOL:  Input catalog name:       /Users/10759054/projects/go13299/target1/DATA/icar02iuf_flt_1.cat\n",
        "py_SEX2GOL:  Output catalog name:      icar02iwf_flt_2.cat  "
       ]
      },
      {
       "output_type": "stream",
       "stream": "stdout",
       "text": [
        "\n",
        "py_SEX2GOL:  Start processing ... "
       ]
      },
      {
       "output_type": "stream",
       "stream": "stdout",
       "text": [
        "     Done\n",
        "Setting up output name: "
       ]
      },
      {
       "output_type": "stream",
       "stream": "stdout",
       "text": [
        " icar02ixf_drz.fits\n",
        "Starting PyDrizzle Version  6.4.3  at  21:05:16 (11/03/2018)\n",
        "py_SEX2GOL:  Setup:\n",
        "py_SEX2GOL:  Input g/prism image:      icar02ixf_flt.fits\n",
        "py_SEX2GOL:  Configuration file name:  WFC3.IR.G141.V2.5.conf\n",
        "py_SEX2GOL:  Direct image:             icar02iuf_flt.fits\n",
        "py_SEX2GOL:  G/Prism extension:        2\n",
        "py_SEX2GOL:  Direct image extension:   2\n",
        "py_SEX2GOL:  Input catalog name:       /Users/10759054/projects/go13299/target1/DATA/icar02iuf_flt_1.cat\n",
        "py_SEX2GOL:  Output catalog name:      icar02ixf_flt_2.cat  "
       ]
      },
      {
       "output_type": "stream",
       "stream": "stdout",
       "text": [
        "\n",
        "py_SEX2GOL:  Start processing ... "
       ]
      },
      {
       "output_type": "stream",
       "stream": "stdout",
       "text": [
        "     Done\n",
        "Setting up output name: "
       ]
      },
      {
       "output_type": "stream",
       "stream": "stdout",
       "text": [
        " icar02iyf_drz.fits\n",
        "Starting PyDrizzle Version  6.4.3  at  21:05:18 (11/03/2018)\n",
        "py_SEX2GOL:  Setup:\n",
        "py_SEX2GOL:  Input g/prism image:      icar02iyf_flt.fits\n",
        "py_SEX2GOL:  Configuration file name:  WFC3.IR.G141.V2.5.conf\n",
        "py_SEX2GOL:  Direct image:             icar02iuf_flt.fits\n",
        "py_SEX2GOL:  G/Prism extension:        2\n",
        "py_SEX2GOL:  Direct image extension:   2\n",
        "py_SEX2GOL:  Input catalog name:       /Users/10759054/projects/go13299/target1/DATA/icar02iuf_flt_1.cat\n",
        "py_SEX2GOL:  Output catalog name:      icar02iyf_flt_2.cat  "
       ]
      },
      {
       "output_type": "stream",
       "stream": "stdout",
       "text": [
        "\n",
        "py_SEX2GOL:  Start processing ... "
       ]
      },
      {
       "output_type": "stream",
       "stream": "stdout",
       "text": [
        "     Done\n",
        "Setting up output name: "
       ]
      },
      {
       "output_type": "stream",
       "stream": "stdout",
       "text": [
        " icar02izf_drz.fits\n",
        "Starting PyDrizzle Version  6.4.3  at  21:05:20 (11/03/2018)\n",
        "py_SEX2GOL:  Setup:\n",
        "py_SEX2GOL:  Input g/prism image:      icar02izf_flt.fits\n",
        "py_SEX2GOL:  Configuration file name:  WFC3.IR.G141.V2.5.conf\n",
        "py_SEX2GOL:  Direct image:             icar02iuf_flt.fits\n",
        "py_SEX2GOL:  G/Prism extension:        2\n",
        "py_SEX2GOL:  Direct image extension:   2\n",
        "py_SEX2GOL:  Input catalog name:       /Users/10759054/projects/go13299/target1/DATA/icar02iuf_flt_1.cat\n",
        "py_SEX2GOL:  Output catalog name:      icar02izf_flt_2.cat  "
       ]
      },
      {
       "output_type": "stream",
       "stream": "stdout",
       "text": [
        "\n",
        "py_SEX2GOL:  Start processing ... "
       ]
      },
      {
       "output_type": "stream",
       "stream": "stdout",
       "text": [
        "     Done\n",
        "Setting up output name: "
       ]
      },
      {
       "output_type": "stream",
       "stream": "stdout",
       "text": [
        " icar02j0f_drz.fits\n",
        "Starting PyDrizzle Version  6.4.3  at  21:05:22 (11/03/2018)\n",
        "py_SEX2GOL:  Setup:\n",
        "py_SEX2GOL:  Input g/prism image:      icar02j0f_flt.fits\n",
        "py_SEX2GOL:  Configuration file name:  WFC3.IR.G141.V2.5.conf\n",
        "py_SEX2GOL:  Direct image:             icar02iuf_flt.fits\n",
        "py_SEX2GOL:  G/Prism extension:        2\n",
        "py_SEX2GOL:  Direct image extension:   2\n",
        "py_SEX2GOL:  Input catalog name:       /Users/10759054/projects/go13299/target1/DATA/icar02iuf_flt_1.cat\n",
        "py_SEX2GOL:  Output catalog name:      icar02j0f_flt_2.cat  "
       ]
      },
      {
       "output_type": "stream",
       "stream": "stdout",
       "text": [
        "\n",
        "py_SEX2GOL:  Start processing ... "
       ]
      },
      {
       "output_type": "stream",
       "stream": "stdout",
       "text": [
        "     Done\n",
        "Setting up output name: "
       ]
      },
      {
       "output_type": "stream",
       "stream": "stdout",
       "text": [
        " icar02j1f_drz.fits\n",
        "Starting PyDrizzle Version  6.4.3  at  21:05:24 (11/03/2018)\n",
        "py_SEX2GOL:  Setup:\n",
        "py_SEX2GOL:  Input g/prism image:      icar02j1f_flt.fits\n",
        "py_SEX2GOL:  Configuration file name:  WFC3.IR.G141.V2.5.conf\n",
        "py_SEX2GOL:  Direct image:             icar02iuf_flt.fits\n",
        "py_SEX2GOL:  G/Prism extension:        2\n",
        "py_SEX2GOL:  Direct image extension:   2\n",
        "py_SEX2GOL:  Input catalog name:       /Users/10759054/projects/go13299/target1/DATA/icar02iuf_flt_1.cat\n",
        "py_SEX2GOL:  Output catalog name:      icar02j1f_flt_2.cat  "
       ]
      },
      {
       "output_type": "stream",
       "stream": "stdout",
       "text": [
        "\n",
        "py_SEX2GOL:  Start processing ... "
       ]
      },
      {
       "output_type": "stream",
       "stream": "stdout",
       "text": [
        "     Done\n",
        "Setting up output name: "
       ]
      },
      {
       "output_type": "stream",
       "stream": "stdout",
       "text": [
        " icar02j2f_drz.fits\n",
        "Starting PyDrizzle Version  6.4.3  at  21:05:26 (11/03/2018)\n",
        "py_SEX2GOL:  Setup:\n",
        "py_SEX2GOL:  Input g/prism image:      icar02j2f_flt.fits\n",
        "py_SEX2GOL:  Configuration file name:  WFC3.IR.G141.V2.5.conf\n",
        "py_SEX2GOL:  Direct image:             icar02iuf_flt.fits\n",
        "py_SEX2GOL:  G/Prism extension:        2\n",
        "py_SEX2GOL:  Direct image extension:   2\n",
        "py_SEX2GOL:  Input catalog name:       /Users/10759054/projects/go13299/target1/DATA/icar02iuf_flt_1.cat\n",
        "py_SEX2GOL:  Output catalog name:      icar02j2f_flt_2.cat  "
       ]
      },
      {
       "output_type": "stream",
       "stream": "stdout",
       "text": [
        "\n",
        "py_SEX2GOL:  Start processing ... "
       ]
      },
      {
       "output_type": "stream",
       "stream": "stdout",
       "text": [
        "     Done\n",
        "Setting up output name: "
       ]
      },
      {
       "output_type": "stream",
       "stream": "stdout",
       "text": [
        " icar02j4f_drz.fits\n",
        "Starting PyDrizzle Version  6.4.3  at  21:05:28 (11/03/2018)\n",
        "py_SEX2GOL:  Setup:\n",
        "py_SEX2GOL:  Input g/prism image:      icar02j4f_flt.fits\n",
        "py_SEX2GOL:  Configuration file name:  WFC3.IR.G141.V2.5.conf\n",
        "py_SEX2GOL:  Direct image:             icar02iuf_flt.fits\n",
        "py_SEX2GOL:  G/Prism extension:        2\n",
        "py_SEX2GOL:  Direct image extension:   2\n",
        "py_SEX2GOL:  Input catalog name:       /Users/10759054/projects/go13299/target1/DATA/icar02iuf_flt_1.cat\n",
        "py_SEX2GOL:  Output catalog name:      icar02j4f_flt_2.cat  "
       ]
      },
      {
       "output_type": "stream",
       "stream": "stdout",
       "text": [
        "\n",
        "py_SEX2GOL:  Start processing ... "
       ]
      },
      {
       "output_type": "stream",
       "stream": "stdout",
       "text": [
        "     Done\n",
        "Setting up output name: "
       ]
      },
      {
       "output_type": "stream",
       "stream": "stdout",
       "text": [
        " icar02j5f_drz.fits\n",
        "Starting PyDrizzle Version  6.4.3  at  21:05:30 (11/03/2018)\n",
        "py_SEX2GOL:  Setup:\n",
        "py_SEX2GOL:  Input g/prism image:      icar02j5f_flt.fits\n",
        "py_SEX2GOL:  Configuration file name:  WFC3.IR.G141.V2.5.conf\n",
        "py_SEX2GOL:  Direct image:             icar02iuf_flt.fits\n",
        "py_SEX2GOL:  G/Prism extension:        2\n",
        "py_SEX2GOL:  Direct image extension:   2\n",
        "py_SEX2GOL:  Input catalog name:       /Users/10759054/projects/go13299/target1/DATA/icar02iuf_flt_1.cat\n",
        "py_SEX2GOL:  Output catalog name:      icar02j5f_flt_2.cat  "
       ]
      },
      {
       "output_type": "stream",
       "stream": "stdout",
       "text": [
        "\n",
        "py_SEX2GOL:  Start processing ... "
       ]
      },
      {
       "output_type": "stream",
       "stream": "stdout",
       "text": [
        "     Done\n",
        "Setting up output name: "
       ]
      },
      {
       "output_type": "stream",
       "stream": "stdout",
       "text": [
        " icar02j6f_drz.fits\n",
        "Starting PyDrizzle Version  6.4.3  at  21:05:32 (11/03/2018)\n",
        "py_SEX2GOL:  Setup:\n",
        "py_SEX2GOL:  Input g/prism image:      icar02j6f_flt.fits\n",
        "py_SEX2GOL:  Configuration file name:  WFC3.IR.G141.V2.5.conf\n",
        "py_SEX2GOL:  Direct image:             icar02iuf_flt.fits\n",
        "py_SEX2GOL:  G/Prism extension:        2\n",
        "py_SEX2GOL:  Direct image extension:   2\n",
        "py_SEX2GOL:  Input catalog name:       /Users/10759054/projects/go13299/target1/DATA/icar02iuf_flt_1.cat\n",
        "py_SEX2GOL:  Output catalog name:      icar02j6f_flt_2.cat  "
       ]
      },
      {
       "output_type": "stream",
       "stream": "stdout",
       "text": [
        "\n",
        "py_SEX2GOL:  Start processing ... "
       ]
      },
      {
       "output_type": "stream",
       "stream": "stdout",
       "text": [
        "     Done\n",
        "Setting up output name: "
       ]
      },
      {
       "output_type": "stream",
       "stream": "stdout",
       "text": [
        " icar02j7f_drz.fits\n",
        "Starting PyDrizzle Version  6.4.3  at  21:05:34 (11/03/2018)\n",
        "py_SEX2GOL:  Setup:\n",
        "py_SEX2GOL:  Input g/prism image:      icar02j7f_flt.fits\n",
        "py_SEX2GOL:  Configuration file name:  WFC3.IR.G141.V2.5.conf\n",
        "py_SEX2GOL:  Direct image:             icar02iuf_flt.fits\n",
        "py_SEX2GOL:  G/Prism extension:        2\n",
        "py_SEX2GOL:  Direct image extension:   2\n",
        "py_SEX2GOL:  Input catalog name:       /Users/10759054/projects/go13299/target1/DATA/icar02iuf_flt_1.cat\n",
        "py_SEX2GOL:  Output catalog name:      icar02j7f_flt_2.cat  "
       ]
      },
      {
       "output_type": "stream",
       "stream": "stdout",
       "text": [
        "\n",
        "py_SEX2GOL:  Start processing ... "
       ]
      },
      {
       "output_type": "stream",
       "stream": "stdout",
       "text": [
        "     Done\n",
        "Setting up output name: "
       ]
      },
      {
       "output_type": "stream",
       "stream": "stdout",
       "text": [
        " icar02j8f_drz.fits\n",
        "Starting PyDrizzle Version  6.4.3  at  21:05:36 (11/03/2018)\n",
        "py_SEX2GOL:  Setup:\n",
        "py_SEX2GOL:  Input g/prism image:      icar02j8f_flt.fits\n",
        "py_SEX2GOL:  Configuration file name:  WFC3.IR.G141.V2.5.conf\n",
        "py_SEX2GOL:  Direct image:             icar02iuf_flt.fits\n",
        "py_SEX2GOL:  G/Prism extension:        2\n",
        "py_SEX2GOL:  Direct image extension:   2\n",
        "py_SEX2GOL:  Input catalog name:       /Users/10759054/projects/go13299/target1/DATA/icar02iuf_flt_1.cat\n",
        "py_SEX2GOL:  Output catalog name:      icar02j8f_flt_2.cat  "
       ]
      },
      {
       "output_type": "stream",
       "stream": "stdout",
       "text": [
        "\n",
        "py_SEX2GOL:  Start processing ... "
       ]
      },
      {
       "output_type": "stream",
       "stream": "stdout",
       "text": [
        "     Done\n",
        "Setting up output name: "
       ]
      },
      {
       "output_type": "stream",
       "stream": "stdout",
       "text": [
        " icar02j9f_drz.fits\n",
        "Starting PyDrizzle Version  6.4.3  at  21:05:38 (11/03/2018)\n",
        "py_SEX2GOL:  Setup:\n",
        "py_SEX2GOL:  Input g/prism image:      icar02j9f_flt.fits\n",
        "py_SEX2GOL:  Configuration file name:  WFC3.IR.G141.V2.5.conf\n",
        "py_SEX2GOL:  Direct image:             icar02iuf_flt.fits\n",
        "py_SEX2GOL:  G/Prism extension:        2\n",
        "py_SEX2GOL:  Direct image extension:   2\n",
        "py_SEX2GOL:  Input catalog name:       /Users/10759054/projects/go13299/target1/DATA/icar02iuf_flt_1.cat\n",
        "py_SEX2GOL:  Output catalog name:      icar02j9f_flt_2.cat  "
       ]
      },
      {
       "output_type": "stream",
       "stream": "stdout",
       "text": [
        "\n",
        "py_SEX2GOL:  Start processing ... "
       ]
      },
      {
       "output_type": "stream",
       "stream": "stdout",
       "text": [
        "     Done\n",
        "Setting up output name: "
       ]
      },
      {
       "output_type": "stream",
       "stream": "stdout",
       "text": [
        " icar02jaf_drz.fits\n",
        "Starting PyDrizzle Version  6.4.3  at  21:05:40 (11/03/2018)\n",
        "py_SEX2GOL:  Setup:\n",
        "py_SEX2GOL:  Input g/prism image:      icar02jaf_flt.fits\n",
        "py_SEX2GOL:  Configuration file name:  WFC3.IR.G141.V2.5.conf\n",
        "py_SEX2GOL:  Direct image:             icar02iuf_flt.fits\n",
        "py_SEX2GOL:  G/Prism extension:        2\n",
        "py_SEX2GOL:  Direct image extension:   2\n",
        "py_SEX2GOL:  Input catalog name:       /Users/10759054/projects/go13299/target1/DATA/icar02iuf_flt_1.cat\n",
        "py_SEX2GOL:  Output catalog name:      icar02jaf_flt_2.cat  "
       ]
      },
      {
       "output_type": "stream",
       "stream": "stdout",
       "text": [
        "\n",
        "py_SEX2GOL:  Start processing ... "
       ]
      },
      {
       "output_type": "stream",
       "stream": "stdout",
       "text": [
        "     Done\n",
        "Setting up output name: "
       ]
      },
      {
       "output_type": "stream",
       "stream": "stdout",
       "text": [
        " icar02jbf_drz.fits\n",
        "Starting PyDrizzle Version  6.4.3  at  21:05:42 (11/03/2018)\n",
        "py_SEX2GOL:  Setup:\n",
        "py_SEX2GOL:  Input g/prism image:      icar02jbf_flt.fits\n",
        "py_SEX2GOL:  Configuration file name:  WFC3.IR.G141.V2.5.conf\n",
        "py_SEX2GOL:  Direct image:             icar02iuf_flt.fits\n",
        "py_SEX2GOL:  G/Prism extension:        2\n",
        "py_SEX2GOL:  Direct image extension:   2\n",
        "py_SEX2GOL:  Input catalog name:       /Users/10759054/projects/go13299/target1/DATA/icar02iuf_flt_1.cat\n",
        "py_SEX2GOL:  Output catalog name:      icar02jbf_flt_2.cat  "
       ]
      },
      {
       "output_type": "stream",
       "stream": "stdout",
       "text": [
        "\n",
        "py_SEX2GOL:  Start processing ... "
       ]
      },
      {
       "output_type": "stream",
       "stream": "stdout",
       "text": [
        "     Done\n",
        "Setting up output name: "
       ]
      },
      {
       "output_type": "stream",
       "stream": "stdout",
       "text": [
        " icar02jcf_drz.fits\n",
        "Starting PyDrizzle Version  6.4.3  at  21:05:44 (11/03/2018)\n",
        "py_SEX2GOL:  Setup:\n",
        "py_SEX2GOL:  Input g/prism image:      icar02jcf_flt.fits\n",
        "py_SEX2GOL:  Configuration file name:  WFC3.IR.G141.V2.5.conf\n",
        "py_SEX2GOL:  Direct image:             icar02iuf_flt.fits\n",
        "py_SEX2GOL:  G/Prism extension:        2\n",
        "py_SEX2GOL:  Direct image extension:   2\n",
        "py_SEX2GOL:  Input catalog name:       /Users/10759054/projects/go13299/target1/DATA/icar02iuf_flt_1.cat\n",
        "py_SEX2GOL:  Output catalog name:      icar02jcf_flt_2.cat  "
       ]
      },
      {
       "output_type": "stream",
       "stream": "stdout",
       "text": [
        "\n",
        "py_SEX2GOL:  Start processing ... "
       ]
      },
      {
       "output_type": "stream",
       "stream": "stdout",
       "text": [
        "     Done\n",
        "Setting up output name: "
       ]
      },
      {
       "output_type": "stream",
       "stream": "stdout",
       "text": [
        " icar02jef_drz.fits\n",
        "Starting PyDrizzle Version  6.4.3  at  21:05:46 (11/03/2018)\n",
        "py_SEX2GOL:  Setup:\n",
        "py_SEX2GOL:  Input g/prism image:      icar02jef_flt.fits\n",
        "py_SEX2GOL:  Configuration file name:  WFC3.IR.G141.V2.5.conf\n",
        "py_SEX2GOL:  Direct image:             icar02iuf_flt.fits\n",
        "py_SEX2GOL:  G/Prism extension:        2\n",
        "py_SEX2GOL:  Direct image extension:   2\n",
        "py_SEX2GOL:  Input catalog name:       /Users/10759054/projects/go13299/target1/DATA/icar02iuf_flt_1.cat\n",
        "py_SEX2GOL:  Output catalog name:      icar02jef_flt_2.cat  "
       ]
      },
      {
       "output_type": "stream",
       "stream": "stdout",
       "text": [
        "\n",
        "py_SEX2GOL:  Start processing ... "
       ]
      },
      {
       "output_type": "stream",
       "stream": "stdout",
       "text": [
        "     Done\n",
        "Setting up output name: "
       ]
      },
      {
       "output_type": "stream",
       "stream": "stdout",
       "text": [
        " icar02jff_drz.fits\n",
        "Starting PyDrizzle Version  6.4.3  at  21:05:48 (11/03/2018)\n",
        "py_SEX2GOL:  Setup:\n",
        "py_SEX2GOL:  Input g/prism image:      icar02jff_flt.fits\n",
        "py_SEX2GOL:  Configuration file name:  WFC3.IR.G141.V2.5.conf\n",
        "py_SEX2GOL:  Direct image:             icar02iuf_flt.fits\n",
        "py_SEX2GOL:  G/Prism extension:        2\n",
        "py_SEX2GOL:  Direct image extension:   2\n",
        "py_SEX2GOL:  Input catalog name:       /Users/10759054/projects/go13299/target1/DATA/icar02iuf_flt_1.cat\n",
        "py_SEX2GOL:  Output catalog name:      icar02jff_flt_2.cat  "
       ]
      },
      {
       "output_type": "stream",
       "stream": "stdout",
       "text": [
        "\n",
        "py_SEX2GOL:  Start processing ... "
       ]
      },
      {
       "output_type": "stream",
       "stream": "stdout",
       "text": [
        "     Done\n",
        "Setting up output name: "
       ]
      },
      {
       "output_type": "stream",
       "stream": "stdout",
       "text": [
        " icar02jgf_drz.fits\n",
        "Starting PyDrizzle Version  6.4.3  at  21:05:50 (11/03/2018)\n",
        "py_SEX2GOL:  Setup:\n",
        "py_SEX2GOL:  Input g/prism image:      icar02jgf_flt.fits\n",
        "py_SEX2GOL:  Configuration file name:  WFC3.IR.G141.V2.5.conf\n",
        "py_SEX2GOL:  Direct image:             icar02iuf_flt.fits\n",
        "py_SEX2GOL:  G/Prism extension:        2\n",
        "py_SEX2GOL:  Direct image extension:   2\n",
        "py_SEX2GOL:  Input catalog name:       /Users/10759054/projects/go13299/target1/DATA/icar02iuf_flt_1.cat\n",
        "py_SEX2GOL:  Output catalog name:      icar02jgf_flt_2.cat  "
       ]
      },
      {
       "output_type": "stream",
       "stream": "stdout",
       "text": [
        "\n",
        "py_SEX2GOL:  Start processing ... "
       ]
      },
      {
       "output_type": "stream",
       "stream": "stdout",
       "text": [
        "     Done\n",
        "Setting up output name: "
       ]
      },
      {
       "output_type": "stream",
       "stream": "stdout",
       "text": [
        " icar02jhf_drz.fits\n",
        "Starting PyDrizzle Version  6.4.3  at  21:05:52 (11/03/2018)\n",
        "py_SEX2GOL:  Setup:\n",
        "py_SEX2GOL:  Input g/prism image:      icar02jhf_flt.fits\n",
        "py_SEX2GOL:  Configuration file name:  WFC3.IR.G141.V2.5.conf\n",
        "py_SEX2GOL:  Direct image:             icar02iuf_flt.fits\n",
        "py_SEX2GOL:  G/Prism extension:        2\n",
        "py_SEX2GOL:  Direct image extension:   2\n",
        "py_SEX2GOL:  Input catalog name:       /Users/10759054/projects/go13299/target1/DATA/icar02iuf_flt_1.cat\n",
        "py_SEX2GOL:  Output catalog name:      icar02jhf_flt_2.cat  "
       ]
      },
      {
       "output_type": "stream",
       "stream": "stdout",
       "text": [
        "\n",
        "py_SEX2GOL:  Start processing ... "
       ]
      },
      {
       "output_type": "stream",
       "stream": "stdout",
       "text": [
        "     Done\n",
        "Setting up output name: "
       ]
      },
      {
       "output_type": "stream",
       "stream": "stdout",
       "text": [
        " icar02jif_drz.fits\n",
        "Starting PyDrizzle Version  6.4.3  at  21:05:54 (11/03/2018)\n",
        "py_SEX2GOL:  Setup:\n",
        "py_SEX2GOL:  Input g/prism image:      icar02jif_flt.fits\n",
        "py_SEX2GOL:  Configuration file name:  WFC3.IR.G141.V2.5.conf\n",
        "py_SEX2GOL:  Direct image:             icar02iuf_flt.fits\n",
        "py_SEX2GOL:  G/Prism extension:        2\n",
        "py_SEX2GOL:  Direct image extension:   2\n",
        "py_SEX2GOL:  Input catalog name:       /Users/10759054/projects/go13299/target1/DATA/icar02iuf_flt_1.cat\n",
        "py_SEX2GOL:  Output catalog name:      icar02jif_flt_2.cat  "
       ]
      },
      {
       "output_type": "stream",
       "stream": "stdout",
       "text": [
        "\n",
        "py_SEX2GOL:  Start processing ... "
       ]
      },
      {
       "output_type": "stream",
       "stream": "stdout",
       "text": [
        "     Done\n",
        "Setting up output name: "
       ]
      },
      {
       "output_type": "stream",
       "stream": "stdout",
       "text": [
        " icar02jmf_drz.fits\n",
        "Starting PyDrizzle Version  6.4.3  at  21:05:56 (11/03/2018)\n",
        "py_SEX2GOL:  Setup:\n",
        "py_SEX2GOL:  Input g/prism image:      icar02jmf_flt.fits\n",
        "py_SEX2GOL:  Configuration file name:  WFC3.IR.G141.V2.5.conf\n",
        "py_SEX2GOL:  Direct image:             icar02jlf_flt.fits\n",
        "py_SEX2GOL:  G/Prism extension:        2\n",
        "py_SEX2GOL:  Direct image extension:   2\n",
        "py_SEX2GOL:  Input catalog name:       /Users/10759054/projects/go13299/target1/DATA/icar02jlf_flt_1.cat\n",
        "py_SEX2GOL:  Output catalog name:      icar02jmf_flt_2.cat  "
       ]
      },
      {
       "output_type": "stream",
       "stream": "stdout",
       "text": [
        "\n",
        "py_SEX2GOL:  Start processing ... "
       ]
      },
      {
       "output_type": "stream",
       "stream": "stdout",
       "text": [
        "     Done\n",
        "Setting up output name: "
       ]
      },
      {
       "output_type": "stream",
       "stream": "stdout",
       "text": [
        " icar02jnf_drz.fits\n",
        "Starting PyDrizzle Version  6.4.3  at  21:05:58 (11/03/2018)\n",
        "py_SEX2GOL:  Setup:\n",
        "py_SEX2GOL:  Input g/prism image:      icar02jnf_flt.fits\n",
        "py_SEX2GOL:  Configuration file name:  WFC3.IR.G141.V2.5.conf\n",
        "py_SEX2GOL:  Direct image:             icar02jlf_flt.fits\n",
        "py_SEX2GOL:  G/Prism extension:        2\n",
        "py_SEX2GOL:  Direct image extension:   2\n",
        "py_SEX2GOL:  Input catalog name:       /Users/10759054/projects/go13299/target1/DATA/icar02jlf_flt_1.cat\n",
        "py_SEX2GOL:  Output catalog name:      icar02jnf_flt_2.cat  "
       ]
      },
      {
       "output_type": "stream",
       "stream": "stdout",
       "text": [
        "\n",
        "py_SEX2GOL:  Start processing ... "
       ]
      },
      {
       "output_type": "stream",
       "stream": "stdout",
       "text": [
        "     Done\n",
        "Setting up output name: "
       ]
      },
      {
       "output_type": "stream",
       "stream": "stdout",
       "text": [
        " icar02jof_drz.fits\n",
        "Starting PyDrizzle Version  6.4.3  at  21:06:00 (11/03/2018)\n",
        "py_SEX2GOL:  Setup:\n",
        "py_SEX2GOL:  Input g/prism image:      icar02jof_flt.fits\n",
        "py_SEX2GOL:  Configuration file name:  WFC3.IR.G141.V2.5.conf\n",
        "py_SEX2GOL:  Direct image:             icar02jlf_flt.fits\n",
        "py_SEX2GOL:  G/Prism extension:        2\n",
        "py_SEX2GOL:  Direct image extension:   2\n",
        "py_SEX2GOL:  Input catalog name:       /Users/10759054/projects/go13299/target1/DATA/icar02jlf_flt_1.cat\n",
        "py_SEX2GOL:  Output catalog name:      icar02jof_flt_2.cat  "
       ]
      },
      {
       "output_type": "stream",
       "stream": "stdout",
       "text": [
        "\n",
        "py_SEX2GOL:  Start processing ... "
       ]
      },
      {
       "output_type": "stream",
       "stream": "stdout",
       "text": [
        "     Done\n",
        "Setting up output name: "
       ]
      },
      {
       "output_type": "stream",
       "stream": "stdout",
       "text": [
        " icar02jqf_drz.fits\n",
        "Starting PyDrizzle Version  6.4.3  at  21:06:02 (11/03/2018)\n",
        "py_SEX2GOL:  Setup:\n",
        "py_SEX2GOL:  Input g/prism image:      icar02jqf_flt.fits\n",
        "py_SEX2GOL:  Configuration file name:  WFC3.IR.G141.V2.5.conf\n",
        "py_SEX2GOL:  Direct image:             icar02jlf_flt.fits\n",
        "py_SEX2GOL:  G/Prism extension:        2\n",
        "py_SEX2GOL:  Direct image extension:   2\n",
        "py_SEX2GOL:  Input catalog name:       /Users/10759054/projects/go13299/target1/DATA/icar02jlf_flt_1.cat\n",
        "py_SEX2GOL:  Output catalog name:      icar02jqf_flt_2.cat  "
       ]
      },
      {
       "output_type": "stream",
       "stream": "stdout",
       "text": [
        "\n",
        "py_SEX2GOL:  Start processing ... "
       ]
      },
      {
       "output_type": "stream",
       "stream": "stdout",
       "text": [
        "     Done\n",
        "Setting up output name: "
       ]
      },
      {
       "output_type": "stream",
       "stream": "stdout",
       "text": [
        " icar02jrf_drz.fits\n",
        "Starting PyDrizzle Version  6.4.3  at  21:06:04 (11/03/2018)\n",
        "py_SEX2GOL:  Setup:\n",
        "py_SEX2GOL:  Input g/prism image:      icar02jrf_flt.fits\n",
        "py_SEX2GOL:  Configuration file name:  WFC3.IR.G141.V2.5.conf\n",
        "py_SEX2GOL:  Direct image:             icar02jlf_flt.fits\n",
        "py_SEX2GOL:  G/Prism extension:        2\n",
        "py_SEX2GOL:  Direct image extension:   2\n",
        "py_SEX2GOL:  Input catalog name:       /Users/10759054/projects/go13299/target1/DATA/icar02jlf_flt_1.cat\n",
        "py_SEX2GOL:  Output catalog name:      icar02jrf_flt_2.cat  "
       ]
      },
      {
       "output_type": "stream",
       "stream": "stdout",
       "text": [
        "\n",
        "py_SEX2GOL:  Start processing ... "
       ]
      },
      {
       "output_type": "stream",
       "stream": "stdout",
       "text": [
        "     Done\n",
        "Setting up output name: "
       ]
      },
      {
       "output_type": "stream",
       "stream": "stdout",
       "text": [
        " icar02jsf_drz.fits\n",
        "Starting PyDrizzle Version  6.4.3  at  21:06:06 (11/03/2018)\n",
        "py_SEX2GOL:  Setup:\n",
        "py_SEX2GOL:  Input g/prism image:      icar02jsf_flt.fits\n",
        "py_SEX2GOL:  Configuration file name:  WFC3.IR.G141.V2.5.conf\n",
        "py_SEX2GOL:  Direct image:             icar02jlf_flt.fits\n",
        "py_SEX2GOL:  G/Prism extension:        2\n",
        "py_SEX2GOL:  Direct image extension:   2\n",
        "py_SEX2GOL:  Input catalog name:       /Users/10759054/projects/go13299/target1/DATA/icar02jlf_flt_1.cat\n",
        "py_SEX2GOL:  Output catalog name:      icar02jsf_flt_2.cat  "
       ]
      },
      {
       "output_type": "stream",
       "stream": "stdout",
       "text": [
        "\n",
        "py_SEX2GOL:  Start processing ... "
       ]
      },
      {
       "output_type": "stream",
       "stream": "stdout",
       "text": [
        "     Done\n",
        "Setting up output name: "
       ]
      },
      {
       "output_type": "stream",
       "stream": "stdout",
       "text": [
        " icar02jtf_drz.fits\n",
        "Starting PyDrizzle Version  6.4.3  at  21:06:08 (11/03/2018)\n",
        "py_SEX2GOL:  Setup:\n",
        "py_SEX2GOL:  Input g/prism image:      icar02jtf_flt.fits\n",
        "py_SEX2GOL:  Configuration file name:  WFC3.IR.G141.V2.5.conf\n",
        "py_SEX2GOL:  Direct image:             icar02jlf_flt.fits\n",
        "py_SEX2GOL:  G/Prism extension:        2\n",
        "py_SEX2GOL:  Direct image extension:   2\n",
        "py_SEX2GOL:  Input catalog name:       /Users/10759054/projects/go13299/target1/DATA/icar02jlf_flt_1.cat\n",
        "py_SEX2GOL:  Output catalog name:      icar02jtf_flt_2.cat  "
       ]
      },
      {
       "output_type": "stream",
       "stream": "stdout",
       "text": [
        "\n",
        "py_SEX2GOL:  Start processing ... "
       ]
      },
      {
       "output_type": "stream",
       "stream": "stdout",
       "text": [
        "     Done\n",
        "Setting up output name: "
       ]
      },
      {
       "output_type": "stream",
       "stream": "stdout",
       "text": [
        " icar02juf_drz.fits\n",
        "Starting PyDrizzle Version  6.4.3  at  21:06:10 (11/03/2018)\n",
        "py_SEX2GOL:  Setup:\n",
        "py_SEX2GOL:  Input g/prism image:      icar02juf_flt.fits\n",
        "py_SEX2GOL:  Configuration file name:  WFC3.IR.G141.V2.5.conf\n",
        "py_SEX2GOL:  Direct image:             icar02jlf_flt.fits\n",
        "py_SEX2GOL:  G/Prism extension:        2\n",
        "py_SEX2GOL:  Direct image extension:   2\n",
        "py_SEX2GOL:  Input catalog name:       /Users/10759054/projects/go13299/target1/DATA/icar02jlf_flt_1.cat\n",
        "py_SEX2GOL:  Output catalog name:      icar02juf_flt_2.cat  "
       ]
      },
      {
       "output_type": "stream",
       "stream": "stdout",
       "text": [
        "\n",
        "py_SEX2GOL:  Start processing ... "
       ]
      },
      {
       "output_type": "stream",
       "stream": "stdout",
       "text": [
        "     Done\n",
        "Setting up output name: "
       ]
      },
      {
       "output_type": "stream",
       "stream": "stdout",
       "text": [
        " icar02jvf_drz.fits\n",
        "Starting PyDrizzle Version  6.4.3  at  21:06:12 (11/03/2018)\n",
        "py_SEX2GOL:  Setup:\n",
        "py_SEX2GOL:  Input g/prism image:      icar02jvf_flt.fits\n",
        "py_SEX2GOL:  Configuration file name:  WFC3.IR.G141.V2.5.conf\n",
        "py_SEX2GOL:  Direct image:             icar02jlf_flt.fits\n",
        "py_SEX2GOL:  G/Prism extension:        2\n",
        "py_SEX2GOL:  Direct image extension:   2\n",
        "py_SEX2GOL:  Input catalog name:       /Users/10759054/projects/go13299/target1/DATA/icar02jlf_flt_1.cat\n",
        "py_SEX2GOL:  Output catalog name:      icar02jvf_flt_2.cat  "
       ]
      },
      {
       "output_type": "stream",
       "stream": "stdout",
       "text": [
        "\n",
        "py_SEX2GOL:  Start processing ... "
       ]
      },
      {
       "output_type": "stream",
       "stream": "stdout",
       "text": [
        "     Done\n",
        "Setting up output name: "
       ]
      },
      {
       "output_type": "stream",
       "stream": "stdout",
       "text": [
        " icar02jwf_drz.fits\n",
        "Starting PyDrizzle Version  6.4.3  at  21:06:14 (11/03/2018)\n",
        "py_SEX2GOL:  Setup:\n",
        "py_SEX2GOL:  Input g/prism image:      icar02jwf_flt.fits\n",
        "py_SEX2GOL:  Configuration file name:  WFC3.IR.G141.V2.5.conf\n",
        "py_SEX2GOL:  Direct image:             icar02jlf_flt.fits\n",
        "py_SEX2GOL:  G/Prism extension:        2\n",
        "py_SEX2GOL:  Direct image extension:   2\n",
        "py_SEX2GOL:  Input catalog name:       /Users/10759054/projects/go13299/target1/DATA/icar02jlf_flt_1.cat\n",
        "py_SEX2GOL:  Output catalog name:      icar02jwf_flt_2.cat  "
       ]
      },
      {
       "output_type": "stream",
       "stream": "stdout",
       "text": [
        "\n",
        "py_SEX2GOL:  Start processing ... "
       ]
      },
      {
       "output_type": "stream",
       "stream": "stdout",
       "text": [
        "     Done\n",
        "Setting up output name: "
       ]
      },
      {
       "output_type": "stream",
       "stream": "stdout",
       "text": [
        " icar02jxf_drz.fits\n",
        "Starting PyDrizzle Version  6.4.3  at  21:06:16 (11/03/2018)\n",
        "py_SEX2GOL:  Setup:\n",
        "py_SEX2GOL:  Input g/prism image:      icar02jxf_flt.fits\n",
        "py_SEX2GOL:  Configuration file name:  WFC3.IR.G141.V2.5.conf\n",
        "py_SEX2GOL:  Direct image:             icar02jlf_flt.fits\n",
        "py_SEX2GOL:  G/Prism extension:        2\n",
        "py_SEX2GOL:  Direct image extension:   2\n",
        "py_SEX2GOL:  Input catalog name:       /Users/10759054/projects/go13299/target1/DATA/icar02jlf_flt_1.cat\n",
        "py_SEX2GOL:  Output catalog name:      icar02jxf_flt_2.cat  "
       ]
      },
      {
       "output_type": "stream",
       "stream": "stdout",
       "text": [
        "\n",
        "py_SEX2GOL:  Start processing ... "
       ]
      },
      {
       "output_type": "stream",
       "stream": "stdout",
       "text": [
        "     Done\n",
        "Setting up output name: "
       ]
      },
      {
       "output_type": "stream",
       "stream": "stdout",
       "text": [
        " icar02jyf_drz.fits\n",
        "Starting PyDrizzle Version  6.4.3  at  21:06:19 (11/03/2018)\n",
        "py_SEX2GOL:  Setup:\n",
        "py_SEX2GOL:  Input g/prism image:      icar02jyf_flt.fits\n",
        "py_SEX2GOL:  Configuration file name:  WFC3.IR.G141.V2.5.conf\n",
        "py_SEX2GOL:  Direct image:             icar02jlf_flt.fits\n",
        "py_SEX2GOL:  G/Prism extension:        2\n",
        "py_SEX2GOL:  Direct image extension:   2\n",
        "py_SEX2GOL:  Input catalog name:       /Users/10759054/projects/go13299/target1/DATA/icar02jlf_flt_1.cat\n",
        "py_SEX2GOL:  Output catalog name:      icar02jyf_flt_2.cat  "
       ]
      },
      {
       "output_type": "stream",
       "stream": "stdout",
       "text": [
        "\n",
        "py_SEX2GOL:  Start processing ... "
       ]
      },
      {
       "output_type": "stream",
       "stream": "stdout",
       "text": [
        "     Done\n",
        "Setting up output name: "
       ]
      },
      {
       "output_type": "stream",
       "stream": "stdout",
       "text": [
        " icar02jzf_drz.fits\n",
        "Starting PyDrizzle Version  6.4.3  at  21:06:21 (11/03/2018)\n",
        "py_SEX2GOL:  Setup:\n",
        "py_SEX2GOL:  Input g/prism image:      icar02jzf_flt.fits\n",
        "py_SEX2GOL:  Configuration file name:  WFC3.IR.G141.V2.5.conf\n",
        "py_SEX2GOL:  Direct image:             icar02jlf_flt.fits\n",
        "py_SEX2GOL:  G/Prism extension:        2\n",
        "py_SEX2GOL:  Direct image extension:   2\n",
        "py_SEX2GOL:  Input catalog name:       /Users/10759054/projects/go13299/target1/DATA/icar02jlf_flt_1.cat\n",
        "py_SEX2GOL:  Output catalog name:      icar02jzf_flt_2.cat  "
       ]
      },
      {
       "output_type": "stream",
       "stream": "stdout",
       "text": [
        "\n",
        "py_SEX2GOL:  Start processing ... "
       ]
      },
      {
       "output_type": "stream",
       "stream": "stdout",
       "text": [
        "     Done\n",
        "Setting up output name: "
       ]
      },
      {
       "output_type": "stream",
       "stream": "stdout",
       "text": [
        " icar02k0f_drz.fits\n",
        "Starting PyDrizzle Version  6.4.3  at  21:06:23 (11/03/2018)\n",
        "py_SEX2GOL:  Setup:\n",
        "py_SEX2GOL:  Input g/prism image:      icar02k0f_flt.fits\n",
        "py_SEX2GOL:  Configuration file name:  WFC3.IR.G141.V2.5.conf\n",
        "py_SEX2GOL:  Direct image:             icar02jlf_flt.fits\n",
        "py_SEX2GOL:  G/Prism extension:        2\n",
        "py_SEX2GOL:  Direct image extension:   2\n",
        "py_SEX2GOL:  Input catalog name:       /Users/10759054/projects/go13299/target1/DATA/icar02jlf_flt_1.cat\n",
        "py_SEX2GOL:  Output catalog name:      icar02k0f_flt_2.cat  "
       ]
      },
      {
       "output_type": "stream",
       "stream": "stdout",
       "text": [
        "\n",
        "py_SEX2GOL:  Start processing ... "
       ]
      },
      {
       "output_type": "stream",
       "stream": "stdout",
       "text": [
        "     Done\n",
        "Setting up output name: "
       ]
      },
      {
       "output_type": "stream",
       "stream": "stdout",
       "text": [
        " icar02k1f_drz.fits\n",
        "Starting PyDrizzle Version  6.4.3  at  21:06:26 (11/03/2018)\n",
        "py_SEX2GOL:  Setup:\n",
        "py_SEX2GOL:  Input g/prism image:      icar02k1f_flt.fits\n",
        "py_SEX2GOL:  Configuration file name:  WFC3.IR.G141.V2.5.conf\n",
        "py_SEX2GOL:  Direct image:             icar02jlf_flt.fits\n",
        "py_SEX2GOL:  G/Prism extension:        2\n",
        "py_SEX2GOL:  Direct image extension:   2\n",
        "py_SEX2GOL:  Input catalog name:       /Users/10759054/projects/go13299/target1/DATA/icar02jlf_flt_1.cat\n",
        "py_SEX2GOL:  Output catalog name:      icar02k1f_flt_2.cat  "
       ]
      },
      {
       "output_type": "stream",
       "stream": "stdout",
       "text": [
        "\n",
        "py_SEX2GOL:  Start processing ... "
       ]
      },
      {
       "output_type": "stream",
       "stream": "stdout",
       "text": [
        "     Done\n",
        "Setting up output name: "
       ]
      },
      {
       "output_type": "stream",
       "stream": "stdout",
       "text": [
        " icar02k2f_drz.fits\n",
        "Starting PyDrizzle Version  6.4.3  at  21:06:28 (11/03/2018)\n",
        "py_SEX2GOL:  Setup:\n",
        "py_SEX2GOL:  Input g/prism image:      icar02k2f_flt.fits\n",
        "py_SEX2GOL:  Configuration file name:  WFC3.IR.G141.V2.5.conf\n",
        "py_SEX2GOL:  Direct image:             icar02jlf_flt.fits\n",
        "py_SEX2GOL:  G/Prism extension:        2\n",
        "py_SEX2GOL:  Direct image extension:   2\n",
        "py_SEX2GOL:  Input catalog name:       /Users/10759054/projects/go13299/target1/DATA/icar02jlf_flt_1.cat\n",
        "py_SEX2GOL:  Output catalog name:      icar02k2f_flt_2.cat  "
       ]
      },
      {
       "output_type": "stream",
       "stream": "stdout",
       "text": [
        "\n",
        "py_SEX2GOL:  Start processing ... "
       ]
      },
      {
       "output_type": "stream",
       "stream": "stdout",
       "text": [
        "     Done\n",
        "Setting up output name: "
       ]
      },
      {
       "output_type": "stream",
       "stream": "stdout",
       "text": [
        " icar02k3f_drz.fits\n",
        "Starting PyDrizzle Version  6.4.3  at  21:06:30 (11/03/2018)\n",
        "py_SEX2GOL:  Setup:\n",
        "py_SEX2GOL:  Input g/prism image:      icar02k3f_flt.fits\n",
        "py_SEX2GOL:  Configuration file name:  WFC3.IR.G141.V2.5.conf\n",
        "py_SEX2GOL:  Direct image:             icar02jlf_flt.fits\n",
        "py_SEX2GOL:  G/Prism extension:        2\n",
        "py_SEX2GOL:  Direct image extension:   2\n",
        "py_SEX2GOL:  Input catalog name:       /Users/10759054/projects/go13299/target1/DATA/icar02jlf_flt_1.cat\n",
        "py_SEX2GOL:  Output catalog name:      icar02k3f_flt_2.cat  "
       ]
      },
      {
       "output_type": "stream",
       "stream": "stdout",
       "text": [
        "\n",
        "py_SEX2GOL:  Start processing ... "
       ]
      },
      {
       "output_type": "stream",
       "stream": "stdout",
       "text": [
        "     Done\n",
        "Setting up output name: "
       ]
      },
      {
       "output_type": "stream",
       "stream": "stdout",
       "text": [
        " icar02k4f_drz.fits\n",
        "Starting PyDrizzle Version  6.4.3  at  21:06:33 (11/03/2018)\n",
        "py_SEX2GOL:  Setup:\n",
        "py_SEX2GOL:  Input g/prism image:      icar02k4f_flt.fits\n",
        "py_SEX2GOL:  Configuration file name:  WFC3.IR.G141.V2.5.conf\n",
        "py_SEX2GOL:  Direct image:             icar02jlf_flt.fits\n",
        "py_SEX2GOL:  G/Prism extension:        2\n",
        "py_SEX2GOL:  Direct image extension:   2\n",
        "py_SEX2GOL:  Input catalog name:       /Users/10759054/projects/go13299/target1/DATA/icar02jlf_flt_1.cat\n",
        "py_SEX2GOL:  Output catalog name:      icar02k4f_flt_2.cat  "
       ]
      },
      {
       "output_type": "stream",
       "stream": "stdout",
       "text": [
        "\n",
        "py_SEX2GOL:  Start processing ... "
       ]
      },
      {
       "output_type": "stream",
       "stream": "stdout",
       "text": [
        "     Done\n",
        "Setting up output name: "
       ]
      },
      {
       "output_type": "stream",
       "stream": "stdout",
       "text": [
        " icar02k5f_drz.fits\n",
        "Starting PyDrizzle Version  6.4.3  at  21:06:35 (11/03/2018)\n",
        "py_SEX2GOL:  Setup:\n",
        "py_SEX2GOL:  Input g/prism image:      icar02k5f_flt.fits\n",
        "py_SEX2GOL:  Configuration file name:  WFC3.IR.G141.V2.5.conf\n",
        "py_SEX2GOL:  Direct image:             icar02jlf_flt.fits\n",
        "py_SEX2GOL:  G/Prism extension:        2\n",
        "py_SEX2GOL:  Direct image extension:   2\n",
        "py_SEX2GOL:  Input catalog name:       /Users/10759054/projects/go13299/target1/DATA/icar02jlf_flt_1.cat\n",
        "py_SEX2GOL:  Output catalog name:      icar02k5f_flt_2.cat  "
       ]
      },
      {
       "output_type": "stream",
       "stream": "stdout",
       "text": [
        "\n",
        "py_SEX2GOL:  Start processing ... "
       ]
      },
      {
       "output_type": "stream",
       "stream": "stdout",
       "text": [
        "     Done\n",
        "Setting up output name: "
       ]
      },
      {
       "output_type": "stream",
       "stream": "stdout",
       "text": [
        " icar02k6f_drz.fits\n",
        "Starting PyDrizzle Version  6.4.3  at  21:06:37 (11/03/2018)\n",
        "py_SEX2GOL:  Setup:\n",
        "py_SEX2GOL:  Input g/prism image:      icar02k6f_flt.fits\n",
        "py_SEX2GOL:  Configuration file name:  WFC3.IR.G141.V2.5.conf\n",
        "py_SEX2GOL:  Direct image:             icar02jlf_flt.fits\n",
        "py_SEX2GOL:  G/Prism extension:        2\n",
        "py_SEX2GOL:  Direct image extension:   2\n",
        "py_SEX2GOL:  Input catalog name:       /Users/10759054/projects/go13299/target1/DATA/icar02jlf_flt_1.cat\n",
        "py_SEX2GOL:  Output catalog name:      icar02k6f_flt_2.cat  "
       ]
      },
      {
       "output_type": "stream",
       "stream": "stdout",
       "text": [
        "\n",
        "py_SEX2GOL:  Start processing ... "
       ]
      },
      {
       "output_type": "stream",
       "stream": "stdout",
       "text": [
        "     Done\n",
        "Setting up output name: "
       ]
      },
      {
       "output_type": "stream",
       "stream": "stdout",
       "text": [
        " icar02k7f_drz.fits\n",
        "Starting PyDrizzle Version  6.4.3  at  21:06:39 (11/03/2018)\n",
        "py_SEX2GOL:  Setup:\n",
        "py_SEX2GOL:  Input g/prism image:      icar02k7f_flt.fits\n",
        "py_SEX2GOL:  Configuration file name:  WFC3.IR.G141.V2.5.conf\n",
        "py_SEX2GOL:  Direct image:             icar02jlf_flt.fits\n",
        "py_SEX2GOL:  G/Prism extension:        2\n",
        "py_SEX2GOL:  Direct image extension:   2\n",
        "py_SEX2GOL:  Input catalog name:       /Users/10759054/projects/go13299/target1/DATA/icar02jlf_flt_1.cat\n",
        "py_SEX2GOL:  Output catalog name:      icar02k7f_flt_2.cat  "
       ]
      },
      {
       "output_type": "stream",
       "stream": "stdout",
       "text": [
        "\n",
        "py_SEX2GOL:  Start processing ... "
       ]
      },
      {
       "output_type": "stream",
       "stream": "stdout",
       "text": [
        "     Done\n",
        "Setting up output name: "
       ]
      },
      {
       "output_type": "stream",
       "stream": "stdout",
       "text": [
        " icar02k8f_drz.fits\n",
        "Starting PyDrizzle Version  6.4.3  at  21:06:41 (11/03/2018)\n",
        "py_SEX2GOL:  Setup:\n",
        "py_SEX2GOL:  Input g/prism image:      icar02k8f_flt.fits\n",
        "py_SEX2GOL:  Configuration file name:  WFC3.IR.G141.V2.5.conf\n",
        "py_SEX2GOL:  Direct image:             icar02jlf_flt.fits\n",
        "py_SEX2GOL:  G/Prism extension:        2\n",
        "py_SEX2GOL:  Direct image extension:   2\n",
        "py_SEX2GOL:  Input catalog name:       /Users/10759054/projects/go13299/target1/DATA/icar02jlf_flt_1.cat\n",
        "py_SEX2GOL:  Output catalog name:      icar02k8f_flt_2.cat  "
       ]
      },
      {
       "output_type": "stream",
       "stream": "stdout",
       "text": [
        "\n",
        "py_SEX2GOL:  Start processing ... "
       ]
      },
      {
       "output_type": "stream",
       "stream": "stdout",
       "text": [
        "     Done\n",
        "Setting up output name: "
       ]
      },
      {
       "output_type": "stream",
       "stream": "stdout",
       "text": [
        " icar02kaf_drz.fits\n",
        "Starting PyDrizzle Version  6.4.3  at  21:06:44 (11/03/2018)\n",
        "py_SEX2GOL:  Setup:\n",
        "py_SEX2GOL:  Input g/prism image:      icar02kaf_flt.fits\n",
        "py_SEX2GOL:  Configuration file name:  WFC3.IR.G141.V2.5.conf\n",
        "py_SEX2GOL:  Direct image:             icar02k9f_flt.fits\n",
        "py_SEX2GOL:  G/Prism extension:        2\n",
        "py_SEX2GOL:  Direct image extension:   2\n",
        "py_SEX2GOL:  Input catalog name:       /Users/10759054/projects/go13299/target1/DATA/icar02k9f_flt_1.cat\n",
        "py_SEX2GOL:  Output catalog name:      icar02kaf_flt_2.cat  "
       ]
      },
      {
       "output_type": "stream",
       "stream": "stdout",
       "text": [
        "\n",
        "py_SEX2GOL:  Start processing ... "
       ]
      },
      {
       "output_type": "stream",
       "stream": "stdout",
       "text": [
        "     Done\n",
        "Setting up output name: "
       ]
      },
      {
       "output_type": "stream",
       "stream": "stdout",
       "text": [
        " icar02kbf_drz.fits\n",
        "Starting PyDrizzle Version  6.4.3  at  21:06:46 (11/03/2018)\n",
        "py_SEX2GOL:  Setup:\n",
        "py_SEX2GOL:  Input g/prism image:      icar02kbf_flt.fits\n",
        "py_SEX2GOL:  Configuration file name:  WFC3.IR.G141.V2.5.conf\n",
        "py_SEX2GOL:  Direct image:             icar02k9f_flt.fits\n",
        "py_SEX2GOL:  G/Prism extension:        2\n",
        "py_SEX2GOL:  Direct image extension:   2\n",
        "py_SEX2GOL:  Input catalog name:       /Users/10759054/projects/go13299/target1/DATA/icar02k9f_flt_1.cat\n",
        "py_SEX2GOL:  Output catalog name:      icar02kbf_flt_2.cat  "
       ]
      },
      {
       "output_type": "stream",
       "stream": "stdout",
       "text": [
        "\n",
        "py_SEX2GOL:  Start processing ... "
       ]
      },
      {
       "output_type": "stream",
       "stream": "stdout",
       "text": [
        "     Done\n",
        "Setting up output name: "
       ]
      },
      {
       "output_type": "stream",
       "stream": "stdout",
       "text": [
        " icar02kcf_drz.fits\n",
        "Starting PyDrizzle Version  6.4.3  at  21:06:48 (11/03/2018)\n",
        "py_SEX2GOL:  Setup:\n",
        "py_SEX2GOL:  Input g/prism image:      icar02kcf_flt.fits\n",
        "py_SEX2GOL:  Configuration file name:  WFC3.IR.G141.V2.5.conf\n",
        "py_SEX2GOL:  Direct image:             icar02k9f_flt.fits\n",
        "py_SEX2GOL:  G/Prism extension:        2\n",
        "py_SEX2GOL:  Direct image extension:   2\n",
        "py_SEX2GOL:  Input catalog name:       /Users/10759054/projects/go13299/target1/DATA/icar02k9f_flt_1.cat\n",
        "py_SEX2GOL:  Output catalog name:      icar02kcf_flt_2.cat  "
       ]
      },
      {
       "output_type": "stream",
       "stream": "stdout",
       "text": [
        "\n",
        "py_SEX2GOL:  Start processing ... "
       ]
      },
      {
       "output_type": "stream",
       "stream": "stdout",
       "text": [
        "     Done\n",
        "Setting up output name: "
       ]
      },
      {
       "output_type": "stream",
       "stream": "stdout",
       "text": [
        " icar02kdf_drz.fits\n",
        "Starting PyDrizzle Version  6.4.3  at  21:06:50 (11/03/2018)\n",
        "py_SEX2GOL:  Setup:\n",
        "py_SEX2GOL:  Input g/prism image:      icar02kdf_flt.fits\n",
        "py_SEX2GOL:  Configuration file name:  WFC3.IR.G141.V2.5.conf\n",
        "py_SEX2GOL:  Direct image:             icar02k9f_flt.fits\n",
        "py_SEX2GOL:  G/Prism extension:        2\n",
        "py_SEX2GOL:  Direct image extension:   2\n",
        "py_SEX2GOL:  Input catalog name:       /Users/10759054/projects/go13299/target1/DATA/icar02k9f_flt_1.cat\n",
        "py_SEX2GOL:  Output catalog name:      icar02kdf_flt_2.cat  "
       ]
      },
      {
       "output_type": "stream",
       "stream": "stdout",
       "text": [
        "\n",
        "py_SEX2GOL:  Start processing ... "
       ]
      },
      {
       "output_type": "stream",
       "stream": "stdout",
       "text": [
        "     Done\n",
        "Setting up output name: "
       ]
      },
      {
       "output_type": "stream",
       "stream": "stdout",
       "text": [
        " icar02kef_drz.fits\n",
        "Starting PyDrizzle Version  6.4.3  at  21:06:52 (11/03/2018)\n",
        "py_SEX2GOL:  Setup:\n",
        "py_SEX2GOL:  Input g/prism image:      icar02kef_flt.fits\n",
        "py_SEX2GOL:  Configuration file name:  WFC3.IR.G141.V2.5.conf\n",
        "py_SEX2GOL:  Direct image:             icar02k9f_flt.fits\n",
        "py_SEX2GOL:  G/Prism extension:        2\n",
        "py_SEX2GOL:  Direct image extension:   2\n",
        "py_SEX2GOL:  Input catalog name:       /Users/10759054/projects/go13299/target1/DATA/icar02k9f_flt_1.cat\n",
        "py_SEX2GOL:  Output catalog name:      icar02kef_flt_2.cat  "
       ]
      },
      {
       "output_type": "stream",
       "stream": "stdout",
       "text": [
        "\n",
        "py_SEX2GOL:  Start processing ... "
       ]
      },
      {
       "output_type": "stream",
       "stream": "stdout",
       "text": [
        "     Done\n",
        "Setting up output name: "
       ]
      },
      {
       "output_type": "stream",
       "stream": "stdout",
       "text": [
        " icar02kff_drz.fits\n",
        "Starting PyDrizzle Version  6.4.3  at  21:06:54 (11/03/2018)\n",
        "py_SEX2GOL:  Setup:\n",
        "py_SEX2GOL:  Input g/prism image:      icar02kff_flt.fits\n",
        "py_SEX2GOL:  Configuration file name:  WFC3.IR.G141.V2.5.conf\n",
        "py_SEX2GOL:  Direct image:             icar02k9f_flt.fits\n",
        "py_SEX2GOL:  G/Prism extension:        2\n",
        "py_SEX2GOL:  Direct image extension:   2\n",
        "py_SEX2GOL:  Input catalog name:       /Users/10759054/projects/go13299/target1/DATA/icar02k9f_flt_1.cat\n",
        "py_SEX2GOL:  Output catalog name:      icar02kff_flt_2.cat  "
       ]
      },
      {
       "output_type": "stream",
       "stream": "stdout",
       "text": [
        "\n",
        "py_SEX2GOL:  Start processing ... "
       ]
      },
      {
       "output_type": "stream",
       "stream": "stdout",
       "text": [
        "     Done\n",
        "Setting up output name: "
       ]
      },
      {
       "output_type": "stream",
       "stream": "stdout",
       "text": [
        " icar02kgf_drz.fits\n",
        "Starting PyDrizzle Version  6.4.3  at  21:06:56 (11/03/2018)\n",
        "py_SEX2GOL:  Setup:\n",
        "py_SEX2GOL:  Input g/prism image:      icar02kgf_flt.fits\n",
        "py_SEX2GOL:  Configuration file name:  WFC3.IR.G141.V2.5.conf\n",
        "py_SEX2GOL:  Direct image:             icar02k9f_flt.fits\n",
        "py_SEX2GOL:  G/Prism extension:        2\n",
        "py_SEX2GOL:  Direct image extension:   2\n",
        "py_SEX2GOL:  Input catalog name:       /Users/10759054/projects/go13299/target1/DATA/icar02k9f_flt_1.cat\n",
        "py_SEX2GOL:  Output catalog name:      icar02kgf_flt_2.cat  "
       ]
      },
      {
       "output_type": "stream",
       "stream": "stdout",
       "text": [
        "\n",
        "py_SEX2GOL:  Start processing ... "
       ]
      },
      {
       "output_type": "stream",
       "stream": "stdout",
       "text": [
        "     Done\n",
        "Setting up output name: "
       ]
      },
      {
       "output_type": "stream",
       "stream": "stdout",
       "text": [
        " icar02khf_drz.fits\n",
        "Starting PyDrizzle Version  6.4.3  at  21:06:58 (11/03/2018)\n",
        "py_SEX2GOL:  Setup:\n",
        "py_SEX2GOL:  Input g/prism image:      icar02khf_flt.fits\n",
        "py_SEX2GOL:  Configuration file name:  WFC3.IR.G141.V2.5.conf\n",
        "py_SEX2GOL:  Direct image:             icar02k9f_flt.fits\n",
        "py_SEX2GOL:  G/Prism extension:        2\n",
        "py_SEX2GOL:  Direct image extension:   2\n",
        "py_SEX2GOL:  Input catalog name:       /Users/10759054/projects/go13299/target1/DATA/icar02k9f_flt_1.cat\n",
        "py_SEX2GOL:  Output catalog name:      icar02khf_flt_2.cat  "
       ]
      },
      {
       "output_type": "stream",
       "stream": "stdout",
       "text": [
        "\n",
        "py_SEX2GOL:  Start processing ... "
       ]
      },
      {
       "output_type": "stream",
       "stream": "stdout",
       "text": [
        "     Done\n",
        "Setting up output name: "
       ]
      },
      {
       "output_type": "stream",
       "stream": "stdout",
       "text": [
        " icar02kif_drz.fits\n",
        "Starting PyDrizzle Version  6.4.3  at  21:07:00 (11/03/2018)\n",
        "py_SEX2GOL:  Setup:\n",
        "py_SEX2GOL:  Input g/prism image:      icar02kif_flt.fits\n",
        "py_SEX2GOL:  Configuration file name:  WFC3.IR.G141.V2.5.conf\n",
        "py_SEX2GOL:  Direct image:             icar02k9f_flt.fits\n",
        "py_SEX2GOL:  G/Prism extension:        2\n",
        "py_SEX2GOL:  Direct image extension:   2\n",
        "py_SEX2GOL:  Input catalog name:       /Users/10759054/projects/go13299/target1/DATA/icar02k9f_flt_1.cat\n",
        "py_SEX2GOL:  Output catalog name:      icar02kif_flt_2.cat  "
       ]
      },
      {
       "output_type": "stream",
       "stream": "stdout",
       "text": [
        "\n",
        "py_SEX2GOL:  Start processing ... "
       ]
      },
      {
       "output_type": "stream",
       "stream": "stdout",
       "text": [
        "     Done\n",
        "Setting up output name: "
       ]
      },
      {
       "output_type": "stream",
       "stream": "stdout",
       "text": [
        " icar02kjf_drz.fits\n",
        "Starting PyDrizzle Version  6.4.3  at  21:07:02 (11/03/2018)\n",
        "py_SEX2GOL:  Setup:\n",
        "py_SEX2GOL:  Input g/prism image:      icar02kjf_flt.fits\n",
        "py_SEX2GOL:  Configuration file name:  WFC3.IR.G141.V2.5.conf\n",
        "py_SEX2GOL:  Direct image:             icar02k9f_flt.fits\n",
        "py_SEX2GOL:  G/Prism extension:        2\n",
        "py_SEX2GOL:  Direct image extension:   2\n",
        "py_SEX2GOL:  Input catalog name:       /Users/10759054/projects/go13299/target1/DATA/icar02k9f_flt_1.cat\n",
        "py_SEX2GOL:  Output catalog name:      icar02kjf_flt_2.cat  "
       ]
      },
      {
       "output_type": "stream",
       "stream": "stdout",
       "text": [
        "\n",
        "py_SEX2GOL:  Start processing ... "
       ]
      },
      {
       "output_type": "stream",
       "stream": "stdout",
       "text": [
        "     Done\n",
        "Setting up output name: "
       ]
      },
      {
       "output_type": "stream",
       "stream": "stdout",
       "text": [
        " icar02kkf_drz.fits\n",
        "Starting PyDrizzle Version  6.4.3  at  21:07:05 (11/03/2018)\n",
        "py_SEX2GOL:  Setup:\n",
        "py_SEX2GOL:  Input g/prism image:      icar02kkf_flt.fits\n",
        "py_SEX2GOL:  Configuration file name:  WFC3.IR.G141.V2.5.conf\n",
        "py_SEX2GOL:  Direct image:             icar02k9f_flt.fits\n",
        "py_SEX2GOL:  G/Prism extension:        2\n",
        "py_SEX2GOL:  Direct image extension:   2\n",
        "py_SEX2GOL:  Input catalog name:       /Users/10759054/projects/go13299/target1/DATA/icar02k9f_flt_1.cat\n",
        "py_SEX2GOL:  Output catalog name:      icar02kkf_flt_2.cat  "
       ]
      },
      {
       "output_type": "stream",
       "stream": "stdout",
       "text": [
        "\n",
        "py_SEX2GOL:  Start processing ... "
       ]
      },
      {
       "output_type": "stream",
       "stream": "stdout",
       "text": [
        "     Done\n",
        "Setting up output name: "
       ]
      },
      {
       "output_type": "stream",
       "stream": "stdout",
       "text": [
        " icar02klf_drz.fits\n",
        "Starting PyDrizzle Version  6.4.3  at  21:07:07 (11/03/2018)\n",
        "py_SEX2GOL:  Setup:\n",
        "py_SEX2GOL:  Input g/prism image:      icar02klf_flt.fits\n",
        "py_SEX2GOL:  Configuration file name:  WFC3.IR.G141.V2.5.conf\n",
        "py_SEX2GOL:  Direct image:             icar02k9f_flt.fits\n",
        "py_SEX2GOL:  G/Prism extension:        2\n",
        "py_SEX2GOL:  Direct image extension:   2\n",
        "py_SEX2GOL:  Input catalog name:       /Users/10759054/projects/go13299/target1/DATA/icar02k9f_flt_1.cat\n",
        "py_SEX2GOL:  Output catalog name:      icar02klf_flt_2.cat  "
       ]
      },
      {
       "output_type": "stream",
       "stream": "stdout",
       "text": [
        "\n",
        "py_SEX2GOL:  Start processing ... "
       ]
      },
      {
       "output_type": "stream",
       "stream": "stdout",
       "text": [
        "     Done\n",
        "Setting up output name: "
       ]
      },
      {
       "output_type": "stream",
       "stream": "stdout",
       "text": [
        " icar02kmf_drz.fits\n",
        "Starting PyDrizzle Version  6.4.3  at  21:07:09 (11/03/2018)\n",
        "py_SEX2GOL:  Setup:\n",
        "py_SEX2GOL:  Input g/prism image:      icar02kmf_flt.fits\n",
        "py_SEX2GOL:  Configuration file name:  WFC3.IR.G141.V2.5.conf\n",
        "py_SEX2GOL:  Direct image:             icar02k9f_flt.fits\n",
        "py_SEX2GOL:  G/Prism extension:        2\n",
        "py_SEX2GOL:  Direct image extension:   2\n",
        "py_SEX2GOL:  Input catalog name:       /Users/10759054/projects/go13299/target1/DATA/icar02k9f_flt_1.cat\n",
        "py_SEX2GOL:  Output catalog name:      icar02kmf_flt_2.cat  "
       ]
      },
      {
       "output_type": "stream",
       "stream": "stdout",
       "text": [
        "\n",
        "py_SEX2GOL:  Start processing ... "
       ]
      },
      {
       "output_type": "stream",
       "stream": "stdout",
       "text": [
        "     Done\n",
        "Setting up output name: "
       ]
      },
      {
       "output_type": "stream",
       "stream": "stdout",
       "text": [
        " icar02knf_drz.fits\n",
        "Starting PyDrizzle Version  6.4.3  at  21:07:11 (11/03/2018)\n",
        "py_SEX2GOL:  Setup:\n",
        "py_SEX2GOL:  Input g/prism image:      icar02knf_flt.fits\n",
        "py_SEX2GOL:  Configuration file name:  WFC3.IR.G141.V2.5.conf\n",
        "py_SEX2GOL:  Direct image:             icar02k9f_flt.fits\n",
        "py_SEX2GOL:  G/Prism extension:        2\n",
        "py_SEX2GOL:  Direct image extension:   2\n",
        "py_SEX2GOL:  Input catalog name:       /Users/10759054/projects/go13299/target1/DATA/icar02k9f_flt_1.cat\n",
        "py_SEX2GOL:  Output catalog name:      icar02knf_flt_2.cat  "
       ]
      },
      {
       "output_type": "stream",
       "stream": "stdout",
       "text": [
        "\n",
        "py_SEX2GOL:  Start processing ... "
       ]
      },
      {
       "output_type": "stream",
       "stream": "stdout",
       "text": [
        "     Done\n",
        "Setting up output name: "
       ]
      },
      {
       "output_type": "stream",
       "stream": "stdout",
       "text": [
        " icar02kof_drz.fits\n",
        "Starting PyDrizzle Version  6.4.3  at  21:07:13 (11/03/2018)\n",
        "py_SEX2GOL:  Setup:\n",
        "py_SEX2GOL:  Input g/prism image:      icar02kof_flt.fits\n",
        "py_SEX2GOL:  Configuration file name:  WFC3.IR.G141.V2.5.conf\n",
        "py_SEX2GOL:  Direct image:             icar02k9f_flt.fits\n",
        "py_SEX2GOL:  G/Prism extension:        2\n",
        "py_SEX2GOL:  Direct image extension:   2\n",
        "py_SEX2GOL:  Input catalog name:       /Users/10759054/projects/go13299/target1/DATA/icar02k9f_flt_1.cat\n",
        "py_SEX2GOL:  Output catalog name:      icar02kof_flt_2.cat  "
       ]
      },
      {
       "output_type": "stream",
       "stream": "stdout",
       "text": [
        "\n",
        "py_SEX2GOL:  Start processing ... "
       ]
      },
      {
       "output_type": "stream",
       "stream": "stdout",
       "text": [
        "     Done\n",
        "Setting up output name: "
       ]
      },
      {
       "output_type": "stream",
       "stream": "stdout",
       "text": [
        " icar02kpf_drz.fits\n",
        "Starting PyDrizzle Version  6.4.3  at  21:07:15 (11/03/2018)\n",
        "py_SEX2GOL:  Setup:\n",
        "py_SEX2GOL:  Input g/prism image:      icar02kpf_flt.fits\n",
        "py_SEX2GOL:  Configuration file name:  WFC3.IR.G141.V2.5.conf\n",
        "py_SEX2GOL:  Direct image:             icar02k9f_flt.fits\n",
        "py_SEX2GOL:  G/Prism extension:        2\n",
        "py_SEX2GOL:  Direct image extension:   2\n",
        "py_SEX2GOL:  Input catalog name:       /Users/10759054/projects/go13299/target1/DATA/icar02k9f_flt_1.cat\n",
        "py_SEX2GOL:  Output catalog name:      icar02kpf_flt_2.cat  "
       ]
      },
      {
       "output_type": "stream",
       "stream": "stdout",
       "text": [
        "\n",
        "py_SEX2GOL:  Start processing ... "
       ]
      },
      {
       "output_type": "stream",
       "stream": "stdout",
       "text": [
        "     Done\n",
        "Setting up output name: "
       ]
      },
      {
       "output_type": "stream",
       "stream": "stdout",
       "text": [
        " icar02kqf_drz.fits\n",
        "Starting PyDrizzle Version  6.4.3  at  21:07:17 (11/03/2018)\n",
        "py_SEX2GOL:  Setup:\n",
        "py_SEX2GOL:  Input g/prism image:      icar02kqf_flt.fits\n",
        "py_SEX2GOL:  Configuration file name:  WFC3.IR.G141.V2.5.conf\n",
        "py_SEX2GOL:  Direct image:             icar02k9f_flt.fits\n",
        "py_SEX2GOL:  G/Prism extension:        2\n",
        "py_SEX2GOL:  Direct image extension:   2\n",
        "py_SEX2GOL:  Input catalog name:       /Users/10759054/projects/go13299/target1/DATA/icar02k9f_flt_1.cat\n",
        "py_SEX2GOL:  Output catalog name:      icar02kqf_flt_2.cat  "
       ]
      },
      {
       "output_type": "stream",
       "stream": "stdout",
       "text": [
        "\n",
        "py_SEX2GOL:  Start processing ... "
       ]
      },
      {
       "output_type": "stream",
       "stream": "stdout",
       "text": [
        "     Done\n",
        "Setting up output name: "
       ]
      },
      {
       "output_type": "stream",
       "stream": "stdout",
       "text": [
        " icar02krf_drz.fits\n",
        "Starting PyDrizzle Version  6.4.3  at  21:07:19 (11/03/2018)\n",
        "py_SEX2GOL:  Setup:\n",
        "py_SEX2GOL:  Input g/prism image:      icar02krf_flt.fits\n",
        "py_SEX2GOL:  Configuration file name:  WFC3.IR.G141.V2.5.conf\n",
        "py_SEX2GOL:  Direct image:             icar02k9f_flt.fits\n",
        "py_SEX2GOL:  G/Prism extension:        2\n",
        "py_SEX2GOL:  Direct image extension:   2\n",
        "py_SEX2GOL:  Input catalog name:       /Users/10759054/projects/go13299/target1/DATA/icar02k9f_flt_1.cat\n",
        "py_SEX2GOL:  Output catalog name:      icar02krf_flt_2.cat  "
       ]
      },
      {
       "output_type": "stream",
       "stream": "stdout",
       "text": [
        "\n",
        "py_SEX2GOL:  Start processing ... "
       ]
      },
      {
       "output_type": "stream",
       "stream": "stdout",
       "text": [
        "     Done\n",
        "Setting up output name: "
       ]
      },
      {
       "output_type": "stream",
       "stream": "stdout",
       "text": [
        " icar02ksf_drz.fits\n",
        "Starting PyDrizzle Version  6.4.3  at  21:07:21 (11/03/2018)\n",
        "py_SEX2GOL:  Setup:\n",
        "py_SEX2GOL:  Input g/prism image:      icar02ksf_flt.fits\n",
        "py_SEX2GOL:  Configuration file name:  WFC3.IR.G141.V2.5.conf\n",
        "py_SEX2GOL:  Direct image:             icar02k9f_flt.fits\n",
        "py_SEX2GOL:  G/Prism extension:        2\n",
        "py_SEX2GOL:  Direct image extension:   2\n",
        "py_SEX2GOL:  Input catalog name:       /Users/10759054/projects/go13299/target1/DATA/icar02k9f_flt_1.cat\n",
        "py_SEX2GOL:  Output catalog name:      icar02ksf_flt_2.cat  "
       ]
      },
      {
       "output_type": "stream",
       "stream": "stdout",
       "text": [
        "\n",
        "py_SEX2GOL:  Start processing ... "
       ]
      },
      {
       "output_type": "stream",
       "stream": "stdout",
       "text": [
        "     Done\n",
        "Setting up output name: "
       ]
      },
      {
       "output_type": "stream",
       "stream": "stdout",
       "text": [
        " icar02ktf_drz.fits\n",
        "Starting PyDrizzle Version  6.4.3  at  21:07:23 (11/03/2018)\n",
        "py_SEX2GOL:  Setup:\n",
        "py_SEX2GOL:  Input g/prism image:      icar02ktf_flt.fits\n",
        "py_SEX2GOL:  Configuration file name:  WFC3.IR.G141.V2.5.conf\n",
        "py_SEX2GOL:  Direct image:             icar02k9f_flt.fits\n",
        "py_SEX2GOL:  G/Prism extension:        2\n",
        "py_SEX2GOL:  Direct image extension:   2\n",
        "py_SEX2GOL:  Input catalog name:       /Users/10759054/projects/go13299/target1/DATA/icar02k9f_flt_1.cat\n",
        "py_SEX2GOL:  Output catalog name:      icar02ktf_flt_2.cat  "
       ]
      },
      {
       "output_type": "stream",
       "stream": "stdout",
       "text": [
        "\n",
        "py_SEX2GOL:  Start processing ... "
       ]
      },
      {
       "output_type": "stream",
       "stream": "stdout",
       "text": [
        "     Done\n",
        "Setting up output name: "
       ]
      },
      {
       "output_type": "stream",
       "stream": "stdout",
       "text": [
        " icar02kuf_drz.fits\n",
        "Starting PyDrizzle Version  6.4.3  at  21:07:26 (11/03/2018)\n",
        "py_SEX2GOL:  Setup:\n",
        "py_SEX2GOL:  Input g/prism image:      icar02kuf_flt.fits\n",
        "py_SEX2GOL:  Configuration file name:  WFC3.IR.G141.V2.5.conf\n",
        "py_SEX2GOL:  Direct image:             icar02k9f_flt.fits\n",
        "py_SEX2GOL:  G/Prism extension:        2\n",
        "py_SEX2GOL:  Direct image extension:   2\n",
        "py_SEX2GOL:  Input catalog name:       /Users/10759054/projects/go13299/target1/DATA/icar02k9f_flt_1.cat\n",
        "py_SEX2GOL:  Output catalog name:      icar02kuf_flt_2.cat  "
       ]
      },
      {
       "output_type": "stream",
       "stream": "stdout",
       "text": [
        "\n",
        "py_SEX2GOL:  Start processing ... "
       ]
      },
      {
       "output_type": "stream",
       "stream": "stdout",
       "text": [
        "     Done\n",
        "Setting up output name: "
       ]
      },
      {
       "output_type": "stream",
       "stream": "stdout",
       "text": [
        " icar02kvf_drz.fits\n",
        "Starting PyDrizzle Version  6.4.3  at  21:07:28 (11/03/2018)\n",
        "py_SEX2GOL:  Setup:\n",
        "py_SEX2GOL:  Input g/prism image:      icar02kvf_flt.fits\n",
        "py_SEX2GOL:  Configuration file name:  WFC3.IR.G141.V2.5.conf\n",
        "py_SEX2GOL:  Direct image:             icar02k9f_flt.fits\n",
        "py_SEX2GOL:  G/Prism extension:        2\n",
        "py_SEX2GOL:  Direct image extension:   2\n",
        "py_SEX2GOL:  Input catalog name:       /Users/10759054/projects/go13299/target1/DATA/icar02k9f_flt_1.cat\n",
        "py_SEX2GOL:  Output catalog name:      icar02kvf_flt_2.cat  "
       ]
      },
      {
       "output_type": "stream",
       "stream": "stdout",
       "text": [
        "\n",
        "py_SEX2GOL:  Start processing ... "
       ]
      },
      {
       "output_type": "stream",
       "stream": "stdout",
       "text": [
        "     Done\n",
        "Setting up output name: "
       ]
      },
      {
       "output_type": "stream",
       "stream": "stdout",
       "text": [
        " icar02kwf_drz.fits\n",
        "Starting PyDrizzle Version  6.4.3  at  21:07:31 (11/03/2018)\n",
        "py_SEX2GOL:  Setup:\n",
        "py_SEX2GOL:  Input g/prism image:      icar02kwf_flt.fits\n",
        "py_SEX2GOL:  Configuration file name:  WFC3.IR.G141.V2.5.conf\n",
        "py_SEX2GOL:  Direct image:             icar02k9f_flt.fits\n",
        "py_SEX2GOL:  G/Prism extension:        2\n",
        "py_SEX2GOL:  Direct image extension:   2\n",
        "py_SEX2GOL:  Input catalog name:       /Users/10759054/projects/go13299/target1/DATA/icar02k9f_flt_1.cat\n",
        "py_SEX2GOL:  Output catalog name:      icar02kwf_flt_2.cat  "
       ]
      },
      {
       "output_type": "stream",
       "stream": "stdout",
       "text": [
        "\n",
        "py_SEX2GOL:  Start processing ... "
       ]
      },
      {
       "output_type": "stream",
       "stream": "stdout",
       "text": [
        "     Done\n"
       ]
      }
     ],
     "prompt_number": 12
    },
    {
     "cell_type": "code",
     "collapsed": false,
     "input": [
      "plt.imshow(tmp, cmap='grey')"
     ],
     "language": "python",
     "metadata": {},
     "outputs": []
    },
    {
     "cell_type": "code",
     "collapsed": false,
     "input": [
      " imfile = os.path.join(imdrizzlepath,filter+\"_drz.fits\")"
     ],
     "language": "python",
     "metadata": {},
     "outputs": []
    },
    {
     "cell_type": "code",
     "collapsed": false,
     "input": [
      "print(imfile)"
     ],
     "language": "python",
     "metadata": {},
     "outputs": []
    },
    {
     "cell_type": "code",
     "collapsed": false,
     "input": [
      " hdu_list = fits.open(imfile)"
     ],
     "language": "python",
     "metadata": {},
     "outputs": []
    },
    {
     "cell_type": "code",
     "collapsed": false,
     "input": [
      "image_data=hdu_list['SCI'].data\n",
      "print(image_data.shape)\n"
     ],
     "language": "python",
     "metadata": {},
     "outputs": []
    },
    {
     "cell_type": "code",
     "collapsed": false,
     "input": [
      "image_data=tmp\n",
      "from astropy.visualization import PercentileInterval\n",
      "interval = PercentileInterval(99.)\n",
      "interval.get_limits(image_data)\n",
      "scl_image=interval(image_data) \n",
      "test=1.-scl_image\n",
      "test.shape\n",
      "plt.imshow(scl_image,cmap='gray',origin='upper')"
     ],
     "language": "python",
     "metadata": {},
     "outputs": []
    },
    {
     "cell_type": "code",
     "collapsed": false,
     "input": [
      "from astropy.visualization import PercentileInterval\n",
      "interval = PercentileInterval(99.)\n",
      "interval.get_limits(image_data)\n",
      "scl_image=interval(image_data) \n",
      "scl_image2=interval(image_data, clip=False)  "
     ],
     "language": "python",
     "metadata": {},
     "outputs": []
    },
    {
     "cell_type": "code",
     "collapsed": false,
     "input": [
      "plt.imshow(scl_image, cmap='gray')\n",
      "plt.colorbar()"
     ],
     "language": "python",
     "metadata": {},
     "outputs": []
    },
    {
     "cell_type": "code",
     "collapsed": false,
     "input": [
      "plt.imshow(scl_image2, cmap='gray')\n",
      "plt.colorbar()"
     ],
     "language": "python",
     "metadata": {},
     "outputs": []
    },
    {
     "cell_type": "code",
     "collapsed": false,
     "input": [
      "help(astrodrizzle.AstroDrizzle)"
     ],
     "language": "python",
     "metadata": {},
     "outputs": []
    },
    {
     "cell_type": "code",
     "collapsed": false,
     "input": [
      "print(True*False*False)"
     ],
     "language": "python",
     "metadata": {},
     "outputs": []
    },
    {
     "cell_type": "code",
     "collapsed": false,
     "input": [
      "from astropy.visualization import PercentileInterval"
     ],
     "language": "python",
     "metadata": {},
     "outputs": []
    },
    {
     "cell_type": "code",
     "collapsed": false,
     "input": [
      "interval = PercentileInterval(99.)"
     ],
     "language": "python",
     "metadata": {},
     "outputs": []
    },
    {
     "cell_type": "code",
     "collapsed": false,
     "input": [
      "interval = astropy.visualization.PercentileInterval(99.)"
     ],
     "language": "python",
     "metadata": {},
     "outputs": []
    },
    {
     "cell_type": "code",
     "collapsed": false,
     "input": [
      "from astropy.io import ascii"
     ],
     "language": "python",
     "metadata": {},
     "outputs": []
    },
    {
     "cell_type": "code",
     "collapsed": false,
     "input": [
      "cat = ascii.read(os.path.join(\"imdrizzle/F127M.cat\"))"
     ],
     "language": "python",
     "metadata": {},
     "outputs": []
    },
    {
     "cell_type": "code",
     "collapsed": false,
     "input": [
      "for i,junk in enumerate([1,2,3]): \n",
      "  if i !=2:\n",
      "    cat.remove_row(i)\n",
      "#newcat.meta={}\n",
      "#fonewcat.remove_row(0)\n",
      "#help(cat)\n",
      "#tmp=cat[:][2]\n",
      "#tmp\n",
      "#ascii.write(cat, 'testcat.dat')\n"
     ],
     "language": "python",
     "metadata": {},
     "outputs": []
    },
    {
     "cell_type": "code",
     "collapsed": false,
     "input": [
      "cat"
     ],
     "language": "python",
     "metadata": {},
     "outputs": []
    },
    {
     "cell_type": "code",
     "collapsed": false,
     "input": [
      "print(tmp.min())"
     ],
     "language": "python",
     "metadata": {},
     "outputs": []
    },
    {
     "cell_type": "code",
     "collapsed": false,
     "input": [
      "print('%g'%(3.140))"
     ],
     "language": "python",
     "metadata": {},
     "outputs": []
    },
    {
     "cell_type": "code",
     "collapsed": false,
     "input": [
      "print('%g'%(3140.00))"
     ],
     "language": "python",
     "metadata": {},
     "outputs": []
    },
    {
     "cell_type": "code",
     "collapsed": false,
     "input": [
      "filters\n"
     ],
     "language": "python",
     "metadata": {},
     "outputs": []
    },
    {
     "cell_type": "code",
     "collapsed": false,
     "input": [
      "test = {'one': [43, 45]}"
     ],
     "language": "python",
     "metadata": {},
     "outputs": []
    },
    {
     "cell_type": "code",
     "collapsed": false,
     "input": [
      "test['one'][0]"
     ],
     "language": "python",
     "metadata": {},
     "outputs": []
    },
    {
     "cell_type": "code",
     "collapsed": false,
     "input": [
      "time_diff=np.array([-1.,0.,0.])-1."
     ],
     "language": "python",
     "metadata": {},
     "outputs": []
    },
    {
     "cell_type": "code",
     "collapsed": false,
     "input": [
      "True in (time_diff < 0)"
     ],
     "language": "python",
     "metadata": {},
     "outputs": []
    },
    {
     "cell_type": "code",
     "collapsed": false,
     "input": [
      "time_diff.max()"
     ],
     "language": "python",
     "metadata": {},
     "outputs": []
    },
    {
     "cell_type": "code",
     "collapsed": false,
     "input": [
      "time_diff == time_diff.max()"
     ],
     "language": "python",
     "metadata": {},
     "outputs": []
    },
    {
     "cell_type": "code",
     "collapsed": false,
     "input": [],
     "language": "python",
     "metadata": {},
     "outputs": []
    }
   ],
   "metadata": {}
  }
 ]
}