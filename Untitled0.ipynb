{
 "metadata": {
  "name": "",
  "signature": "sha256:8d9c87ea66eafe074a801d1e21b2f05e12cedeab2d596be433d4e65fbbf27a6a"
 },
 "nbformat": 3,
 "nbformat_minor": 0,
 "worksheets": [
  {
   "cells": [
    {
     "cell_type": "code",
     "collapsed": false,
     "input": [
      "from wfc3_reduc import *"
     ],
     "language": "python",
     "metadata": {},
     "outputs": [
      {
       "output_type": "stream",
       "stream": "stdout",
       "text": [
        "The following tasks in the stwcs.gui package can be run with TEAL:\n",
        "     apply_headerlet          archive_headerlet          attach_headerlet     \n",
        "     delete_headerlet         extract_headerlet         headerlet_summary     \n",
        "    restore_headerlet             updatewcs              write_headerlet\n",
        "\n",
        "\n",
        "The following task in the fitsblender package can be run with TEAL:\n",
        "                                  blendheaders                                  \n",
        "The following tasks in the drizzlepac package can be run with TEAL:\n",
        "    astrodrizzle       imagefindpars          pixtopix            pixtosky      \n",
        "     resetbits            skytopix           tweakback            tweakreg      \n",
        "     updatenpol"
       ]
      },
      {
       "output_type": "stream",
       "stream": "stdout",
       "text": [
        "\n"
       ]
      }
     ],
     "prompt_number": 1
    },
    {
     "cell_type": "code",
     "collapsed": false,
     "input": [
      "path='/Users/10759054/projects/go13299/target1'\n",
      "dirs=setup_environment(path)\n",
      "#datapath='/Users/10759054/projects/go13299/data'\n",
      "#fullframepath='/Users/10759054/projects/go13299/fullframe'\n",
      "#imdrizzlepath='/Users/10759054/projects/go13299/imdrizzle'\n"
     ],
     "language": "python",
     "metadata": {},
     "outputs": [],
     "prompt_number": 2
    },
    {
     "cell_type": "code",
     "collapsed": false,
     "input": [
      "#print(dirs['datapath'][0])"
     ],
     "language": "python",
     "metadata": {},
     "outputs": [],
     "prompt_number": 3
    },
    {
     "cell_type": "code",
     "collapsed": false,
     "input": [
      " #copy_data(dirs['savepath'][0],dirs['datapath'][0])"
     ],
     "language": "python",
     "metadata": {},
     "outputs": [],
     "prompt_number": 4
    },
    {
     "cell_type": "code",
     "collapsed": false,
     "input": [
      "#embed_subarrays(dirs['datapath'][0],dirs['fullframepath'][0])"
     ],
     "language": "python",
     "metadata": {},
     "outputs": [],
     "prompt_number": 5
    },
    {
     "cell_type": "code",
     "collapsed": false,
     "input": [
      "filters=filter_list(dirs['fullframepath'][0],dirs['imdrizzlepath'][0])"
     ],
     "language": "python",
     "metadata": {},
     "outputs": [],
     "prompt_number": 6
    },
    {
     "cell_type": "code",
     "collapsed": false,
     "input": [
      "#do_astrodrizzle(filters,dirs['imdrizzlepath'][0])"
     ],
     "language": "python",
     "metadata": {},
     "outputs": [],
     "prompt_number": 7
    },
    {
     "cell_type": "code",
     "collapsed": false,
     "input": [
      "#help(astrodrizzle.AstroDrizzle)"
     ],
     "language": "python",
     "metadata": {},
     "outputs": [],
     "prompt_number": 8
    },
    {
     "cell_type": "code",
     "collapsed": false,
     "input": [
      "#do_sextractor(filters,dirs['imdrizzlepath'][0])"
     ],
     "language": "python",
     "metadata": {},
     "outputs": [],
     "prompt_number": 9
    },
    {
     "cell_type": "code",
     "collapsed": false,
     "input": [
      "#%matplotlib inline\n",
      "#filter='F127M'\n",
      "#identify_target(filter,imdrizzlepath)"
     ],
     "language": "python",
     "metadata": {},
     "outputs": [],
     "prompt_number": 10
    },
    {
     "cell_type": "code",
     "collapsed": false,
     "input": [
      "#do_axeprep(filters,dirs['fullframepath'][0],dirs['imdrizzlepath'][0],dirs['basepath'][0],dirs['datapath'][0])"
     ],
     "language": "python",
     "metadata": {},
     "outputs": [],
     "prompt_number": 11
    },
    {
     "cell_type": "code",
     "collapsed": false,
     "input": [
      "do_axecore(filters,dirs['basepath'][0])"
     ],
     "language": "python",
     "metadata": {},
     "outputs": [
      {
       "output_type": "stream",
       "stream": "stdout",
       "text": [
        "Setting up output name:  icar02h4f_drz.fits\n",
        "Starting PyDrizzle Version  6.4.3  at  21:03:26 (11/03/2018)\n",
        "py_SEX2GOL:  Setup:\n",
        "py_SEX2GOL:  Input g/prism image:      icar02h4f_flt.fits\n",
        "py_SEX2GOL:  Configuration file name:  WFC3.IR.G141.V2.5.conf\n",
        "py_SEX2GOL:  Direct image:             icar02h3f_flt.fits\n",
        "py_SEX2GOL:  G/Prism extension:        2\n",
        "py_SEX2GOL:  Direct image extension:   2\n",
        "py_SEX2GOL:  Input catalog name:       /Users/10759054/projects/go13299/target1/DATA/icar02h3f_flt_1.cat\n",
        "py_SEX2GOL:  Output catalog name:      icar02h4f_flt_2.cat  "
       ]
      },
      {
       "output_type": "stream",
       "stream": "stdout",
       "text": [
        "\n",
        "py_SEX2GOL:  Start processing ... "
       ]
      },
      {
       "output_type": "stream",
       "stream": "stdout",
       "text": [
        "     Done\n",
        "Setting up output name: "
       ]
      },
      {
       "output_type": "stream",
       "stream": "stdout",
       "text": [
        " icar02h5f_drz.fits\n",
        "Starting PyDrizzle Version  6.4.3  at  21:03:28 (11/03/2018)\n",
        "py_SEX2GOL:  Setup:\n",
        "py_SEX2GOL:  Input g/prism image:      icar02h5f_flt.fits\n",
        "py_SEX2GOL:  Configuration file name:  WFC3.IR.G141.V2.5.conf\n",
        "py_SEX2GOL:  Direct image:             icar02h3f_flt.fits\n",
        "py_SEX2GOL:  G/Prism extension:        2\n",
        "py_SEX2GOL:  Direct image extension:   2\n",
        "py_SEX2GOL:  Input catalog name:       /Users/10759054/projects/go13299/target1/DATA/icar02h3f_flt_1.cat\n",
        "py_SEX2GOL:  Output catalog name:      icar02h5f_flt_2.cat  "
       ]
      },
      {
       "output_type": "stream",
       "stream": "stdout",
       "text": [
        "\n",
        "py_SEX2GOL:  Start processing ... "
       ]
      },
      {
       "output_type": "stream",
       "stream": "stdout",
       "text": [
        "     Done\n",
        "Setting up output name: "
       ]
      },
      {
       "output_type": "stream",
       "stream": "stdout",
       "text": [
        " icar02h6f_drz.fits\n",
        "Starting PyDrizzle Version  6.4.3  at  21:03:31 (11/03/2018)\n",
        "py_SEX2GOL:  Setup:\n",
        "py_SEX2GOL:  Input g/prism image:      icar02h6f_flt.fits\n",
        "py_SEX2GOL:  Configuration file name:  WFC3.IR.G141.V2.5.conf\n",
        "py_SEX2GOL:  Direct image:             icar02h3f_flt.fits\n",
        "py_SEX2GOL:  G/Prism extension:        2\n",
        "py_SEX2GOL:  Direct image extension:   2\n",
        "py_SEX2GOL:  Input catalog name:       /Users/10759054/projects/go13299/target1/DATA/icar02h3f_flt_1.cat\n",
        "py_SEX2GOL:  Output catalog name:      icar02h6f_flt_2.cat  "
       ]
      },
      {
       "output_type": "stream",
       "stream": "stdout",
       "text": [
        "\n",
        "py_SEX2GOL:  Start processing ... "
       ]
      },
      {
       "output_type": "stream",
       "stream": "stdout",
       "text": [
        "     Done\n",
        "Setting up output name: "
       ]
      },
      {
       "output_type": "stream",
       "stream": "stdout",
       "text": [
        " icar02h7f_drz.fits\n",
        "Starting PyDrizzle Version  6.4.3  at  21:03:33 (11/03/2018)\n",
        "py_SEX2GOL:  Setup:\n",
        "py_SEX2GOL:  Input g/prism image:      icar02h7f_flt.fits\n",
        "py_SEX2GOL:  Configuration file name:  WFC3.IR.G141.V2.5.conf\n",
        "py_SEX2GOL:  Direct image:             icar02h3f_flt.fits\n",
        "py_SEX2GOL:  G/Prism extension:        2\n",
        "py_SEX2GOL:  Direct image extension:   2\n",
        "py_SEX2GOL:  Input catalog name:       /Users/10759054/projects/go13299/target1/DATA/icar02h3f_flt_1.cat\n",
        "py_SEX2GOL:  Output catalog name:      icar02h7f_flt_2.cat  "
       ]
      },
      {
       "output_type": "stream",
       "stream": "stdout",
       "text": [
        "\n",
        "py_SEX2GOL:  Start processing ... "
       ]
      },
      {
       "output_type": "stream",
       "stream": "stdout",
       "text": [
        "     Done\n",
        "Setting up output name: "
       ]
      },
      {
       "output_type": "stream",
       "stream": "stdout",
       "text": [
        " icar02h8f_drz.fits\n",
        "Starting PyDrizzle Version  6.4.3  at  21:03:35 (11/03/2018)\n",
        "py_SEX2GOL:  Setup:\n",
        "py_SEX2GOL:  Input g/prism image:      icar02h8f_flt.fits\n",
        "py_SEX2GOL:  Configuration file name:  WFC3.IR.G141.V2.5.conf\n",
        "py_SEX2GOL:  Direct image:             icar02h3f_flt.fits\n",
        "py_SEX2GOL:  G/Prism extension:        2\n",
        "py_SEX2GOL:  Direct image extension:   2\n",
        "py_SEX2GOL:  Input catalog name:       /Users/10759054/projects/go13299/target1/DATA/icar02h3f_flt_1.cat\n",
        "py_SEX2GOL:  Output catalog name:      icar02h8f_flt_2.cat  "
       ]
      },
      {
       "output_type": "stream",
       "stream": "stdout",
       "text": [
        "\n",
        "py_SEX2GOL:  Start processing ... "
       ]
      },
      {
       "output_type": "stream",
       "stream": "stdout",
       "text": [
        "     Done\n",
        "Setting up output name: "
       ]
      },
      {
       "output_type": "stream",
       "stream": "stdout",
       "text": [
        " icar02h9f_drz.fits\n",
        "Starting PyDrizzle Version  6.4.3  at  21:03:38 (11/03/2018)\n",
        "py_SEX2GOL:  Setup:\n",
        "py_SEX2GOL:  Input g/prism image:      icar02h9f_flt.fits\n",
        "py_SEX2GOL:  Configuration file name:  WFC3.IR.G141.V2.5.conf\n",
        "py_SEX2GOL:  Direct image:             icar02h3f_flt.fits\n",
        "py_SEX2GOL:  G/Prism extension:        2\n",
        "py_SEX2GOL:  Direct image extension:   2\n",
        "py_SEX2GOL:  Input catalog name:       /Users/10759054/projects/go13299/target1/DATA/icar02h3f_flt_1.cat\n",
        "py_SEX2GOL:  Output catalog name:      icar02h9f_flt_2.cat  "
       ]
      },
      {
       "output_type": "stream",
       "stream": "stdout",
       "text": [
        "\n",
        "py_SEX2GOL:  Start processing ... "
       ]
      },
      {
       "output_type": "stream",
       "stream": "stdout",
       "text": [
        "     Done\n",
        "Setting up output name: "
       ]
      },
      {
       "output_type": "stream",
       "stream": "stdout",
       "text": [
        " icar02haf_drz.fits\n",
        "Starting PyDrizzle Version  6.4.3  at  21:03:40 (11/03/2018)\n",
        "py_SEX2GOL:  Setup:\n",
        "py_SEX2GOL:  Input g/prism image:      icar02haf_flt.fits\n",
        "py_SEX2GOL:  Configuration file name:  WFC3.IR.G141.V2.5.conf\n",
        "py_SEX2GOL:  Direct image:             icar02h3f_flt.fits\n",
        "py_SEX2GOL:  G/Prism extension:        2\n",
        "py_SEX2GOL:  Direct image extension:   2\n",
        "py_SEX2GOL:  Input catalog name:       /Users/10759054/projects/go13299/target1/DATA/icar02h3f_flt_1.cat\n",
        "py_SEX2GOL:  Output catalog name:      icar02haf_flt_2.cat  "
       ]
      },
      {
       "output_type": "stream",
       "stream": "stdout",
       "text": [
        "\n",
        "py_SEX2GOL:  Start processing ... "
       ]
      },
      {
       "output_type": "stream",
       "stream": "stdout",
       "text": [
        "     Done\n",
        "Setting up output name: "
       ]
      },
      {
       "output_type": "stream",
       "stream": "stdout",
       "text": [
        " icar02hbf_drz.fits\n",
        "Starting PyDrizzle Version  6.4.3  at  21:03:43 (11/03/2018)\n",
        "py_SEX2GOL:  Setup:\n",
        "py_SEX2GOL:  Input g/prism image:      icar02hbf_flt.fits\n",
        "py_SEX2GOL:  Configuration file name:  WFC3.IR.G141.V2.5.conf\n",
        "py_SEX2GOL:  Direct image:             icar02h3f_flt.fits\n",
        "py_SEX2GOL:  G/Prism extension:        2\n",
        "py_SEX2GOL:  Direct image extension:   2\n",
        "py_SEX2GOL:  Input catalog name:       /Users/10759054/projects/go13299/target1/DATA/icar02h3f_flt_1.cat\n",
        "py_SEX2GOL:  Output catalog name:      icar02hbf_flt_2.cat  "
       ]
      },
      {
       "output_type": "stream",
       "stream": "stdout",
       "text": [
        "\n",
        "py_SEX2GOL:  Start processing ... "
       ]
      },
      {
       "output_type": "stream",
       "stream": "stdout",
       "text": [
        "     Done\n",
        "Setting up output name: "
       ]
      },
      {
       "output_type": "stream",
       "stream": "stdout",
       "text": [
        " icar02hcf_drz.fits\n",
        "Starting PyDrizzle Version  6.4.3  at  21:03:45 (11/03/2018)\n",
        "py_SEX2GOL:  Setup:\n",
        "py_SEX2GOL:  Input g/prism image:      icar02hcf_flt.fits\n",
        "py_SEX2GOL:  Configuration file name:  WFC3.IR.G141.V2.5.conf\n",
        "py_SEX2GOL:  Direct image:             icar02h3f_flt.fits\n",
        "py_SEX2GOL:  G/Prism extension:        2\n",
        "py_SEX2GOL:  Direct image extension:   2\n",
        "py_SEX2GOL:  Input catalog name:       /Users/10759054/projects/go13299/target1/DATA/icar02h3f_flt_1.cat\n",
        "py_SEX2GOL:  Output catalog name:      icar02hcf_flt_2.cat  "
       ]
      },
      {
       "output_type": "stream",
       "stream": "stdout",
       "text": [
        "\n",
        "py_SEX2GOL:  Start processing ... "
       ]
      },
      {
       "output_type": "stream",
       "stream": "stdout",
       "text": [
        "     Done\n",
        "Setting up output name: "
       ]
      },
      {
       "output_type": "stream",
       "stream": "stdout",
       "text": [
        " icar02hef_drz.fits\n",
        "Starting PyDrizzle Version  6.4.3  at  21:03:47 (11/03/2018)\n",
        "py_SEX2GOL:  Setup:\n",
        "py_SEX2GOL:  Input g/prism image:      icar02hef_flt.fits\n",
        "py_SEX2GOL:  Configuration file name:  WFC3.IR.G141.V2.5.conf\n",
        "py_SEX2GOL:  Direct image:             icar02h3f_flt.fits\n",
        "py_SEX2GOL:  G/Prism extension:        2\n",
        "py_SEX2GOL:  Direct image extension:   2\n",
        "py_SEX2GOL:  Input catalog name:       /Users/10759054/projects/go13299/target1/DATA/icar02h3f_flt_1.cat\n",
        "py_SEX2GOL:  Output catalog name:      icar02hef_flt_2.cat  "
       ]
      },
      {
       "output_type": "stream",
       "stream": "stdout",
       "text": [
        "\n",
        "py_SEX2GOL:  Start processing ... "
       ]
      },
      {
       "output_type": "stream",
       "stream": "stdout",
       "text": [
        "     Done\n",
        "Setting up output name: "
       ]
      },
      {
       "output_type": "stream",
       "stream": "stdout",
       "text": [
        " icar02hff_drz.fits\n",
        "Starting PyDrizzle Version  6.4.3  at  21:03:49 (11/03/2018)\n",
        "py_SEX2GOL:  Setup:\n",
        "py_SEX2GOL:  Input g/prism image:      icar02hff_flt.fits\n",
        "py_SEX2GOL:  Configuration file name:  WFC3.IR.G141.V2.5.conf\n",
        "py_SEX2GOL:  Direct image:             icar02h3f_flt.fits\n",
        "py_SEX2GOL:  G/Prism extension:        2\n",
        "py_SEX2GOL:  Direct image extension:   2\n",
        "py_SEX2GOL:  Input catalog name:       /Users/10759054/projects/go13299/target1/DATA/icar02h3f_flt_1.cat\n",
        "py_SEX2GOL:  Output catalog name:      icar02hff_flt_2.cat  "
       ]
      },
      {
       "output_type": "stream",
       "stream": "stdout",
       "text": [
        "\n",
        "py_SEX2GOL:  Start processing ... "
       ]
      },
      {
       "output_type": "stream",
       "stream": "stdout",
       "text": [
        "     Done\n",
        "Setting up output name: "
       ]
      },
      {
       "output_type": "stream",
       "stream": "stdout",
       "text": [
        " icar02hgf_drz.fits\n",
        "Starting PyDrizzle Version  6.4.3  at  21:03:51 (11/03/2018)\n",
        "py_SEX2GOL:  Setup:\n",
        "py_SEX2GOL:  Input g/prism image:      icar02hgf_flt.fits\n",
        "py_SEX2GOL:  Configuration file name:  WFC3.IR.G141.V2.5.conf\n",
        "py_SEX2GOL:  Direct image:             icar02h3f_flt.fits\n",
        "py_SEX2GOL:  G/Prism extension:        2\n",
        "py_SEX2GOL:  Direct image extension:   2\n",
        "py_SEX2GOL:  Input catalog name:       /Users/10759054/projects/go13299/target1/DATA/icar02h3f_flt_1.cat\n",
        "py_SEX2GOL:  Output catalog name:      icar02hgf_flt_2.cat  "
       ]
      },
      {
       "output_type": "stream",
       "stream": "stdout",
       "text": [
        "\n",
        "py_SEX2GOL:  Start processing ... "
       ]
      },
      {
       "output_type": "stream",
       "stream": "stdout",
       "text": [
        "     Done\n",
        "Setting up output name: "
       ]
      },
      {
       "output_type": "stream",
       "stream": "stdout",
       "text": [
        " icar02hhf_drz.fits\n",
        "Starting PyDrizzle Version  6.4.3  at  21:03:53 (11/03/2018)\n",
        "py_SEX2GOL:  Setup:\n",
        "py_SEX2GOL:  Input g/prism image:      icar02hhf_flt.fits\n",
        "py_SEX2GOL:  Configuration file name:  WFC3.IR.G141.V2.5.conf\n",
        "py_SEX2GOL:  Direct image:             icar02h3f_flt.fits\n",
        "py_SEX2GOL:  G/Prism extension:        2\n",
        "py_SEX2GOL:  Direct image extension:   2\n",
        "py_SEX2GOL:  Input catalog name:       /Users/10759054/projects/go13299/target1/DATA/icar02h3f_flt_1.cat\n",
        "py_SEX2GOL:  Output catalog name:      icar02hhf_flt_2.cat  "
       ]
      },
      {
       "output_type": "stream",
       "stream": "stdout",
       "text": [
        "\n",
        "py_SEX2GOL:  Start processing ... "
       ]
      },
      {
       "output_type": "stream",
       "stream": "stdout",
       "text": [
        "     Done\n",
        "Setting up output name: "
       ]
      },
      {
       "output_type": "stream",
       "stream": "stdout",
       "text": [
        " icar02hif_drz.fits\n",
        "Starting PyDrizzle Version  6.4.3  at  21:03:56 (11/03/2018)\n",
        "py_SEX2GOL:  Setup:\n",
        "py_SEX2GOL:  Input g/prism image:      icar02hif_flt.fits\n",
        "py_SEX2GOL:  Configuration file name:  WFC3.IR.G141.V2.5.conf\n",
        "py_SEX2GOL:  Direct image:             icar02h3f_flt.fits\n",
        "py_SEX2GOL:  G/Prism extension:        2\n",
        "py_SEX2GOL:  Direct image extension:   2\n",
        "py_SEX2GOL:  Input catalog name:       /Users/10759054/projects/go13299/target1/DATA/icar02h3f_flt_1.cat\n",
        "py_SEX2GOL:  Output catalog name:      icar02hif_flt_2.cat  "
       ]
      },
      {
       "output_type": "stream",
       "stream": "stdout",
       "text": [
        "\n",
        "py_SEX2GOL:  Start processing ... "
       ]
      }
     ]
    },
    {
     "cell_type": "code",
     "collapsed": false,
     "input": [
      "plt.imshow(tmp, cmap='grey')"
     ],
     "language": "python",
     "metadata": {},
     "outputs": []
    },
    {
     "cell_type": "code",
     "collapsed": false,
     "input": [
      " imfile = os.path.join(imdrizzlepath,filter+\"_drz.fits\")"
     ],
     "language": "python",
     "metadata": {},
     "outputs": []
    },
    {
     "cell_type": "code",
     "collapsed": false,
     "input": [
      "print(imfile)"
     ],
     "language": "python",
     "metadata": {},
     "outputs": []
    },
    {
     "cell_type": "code",
     "collapsed": false,
     "input": [
      " hdu_list = fits.open(imfile)"
     ],
     "language": "python",
     "metadata": {},
     "outputs": []
    },
    {
     "cell_type": "code",
     "collapsed": false,
     "input": [
      "image_data=hdu_list['SCI'].data\n",
      "print(image_data.shape)\n"
     ],
     "language": "python",
     "metadata": {},
     "outputs": []
    },
    {
     "cell_type": "code",
     "collapsed": false,
     "input": [
      "image_data=tmp\n",
      "from astropy.visualization import PercentileInterval\n",
      "interval = PercentileInterval(99.)\n",
      "interval.get_limits(image_data)\n",
      "scl_image=interval(image_data) \n",
      "test=1.-scl_image\n",
      "test.shape\n",
      "plt.imshow(scl_image,cmap='gray',origin='upper')"
     ],
     "language": "python",
     "metadata": {},
     "outputs": []
    },
    {
     "cell_type": "code",
     "collapsed": false,
     "input": [
      "from astropy.visualization import PercentileInterval\n",
      "interval = PercentileInterval(99.)\n",
      "interval.get_limits(image_data)\n",
      "scl_image=interval(image_data) \n",
      "scl_image2=interval(image_data, clip=False)  "
     ],
     "language": "python",
     "metadata": {},
     "outputs": []
    },
    {
     "cell_type": "code",
     "collapsed": false,
     "input": [
      "plt.imshow(scl_image, cmap='gray')\n",
      "plt.colorbar()"
     ],
     "language": "python",
     "metadata": {},
     "outputs": []
    },
    {
     "cell_type": "code",
     "collapsed": false,
     "input": [
      "plt.imshow(scl_image2, cmap='gray')\n",
      "plt.colorbar()"
     ],
     "language": "python",
     "metadata": {},
     "outputs": []
    },
    {
     "cell_type": "code",
     "collapsed": false,
     "input": [
      "help(astrodrizzle.AstroDrizzle)"
     ],
     "language": "python",
     "metadata": {},
     "outputs": []
    },
    {
     "cell_type": "code",
     "collapsed": false,
     "input": [
      "print(True*False*False)"
     ],
     "language": "python",
     "metadata": {},
     "outputs": []
    },
    {
     "cell_type": "code",
     "collapsed": false,
     "input": [
      "from astropy.visualization import PercentileInterval"
     ],
     "language": "python",
     "metadata": {},
     "outputs": []
    },
    {
     "cell_type": "code",
     "collapsed": false,
     "input": [
      "interval = PercentileInterval(99.)"
     ],
     "language": "python",
     "metadata": {},
     "outputs": []
    },
    {
     "cell_type": "code",
     "collapsed": false,
     "input": [
      "interval = astropy.visualization.PercentileInterval(99.)"
     ],
     "language": "python",
     "metadata": {},
     "outputs": []
    },
    {
     "cell_type": "code",
     "collapsed": false,
     "input": [
      "from astropy.io import ascii"
     ],
     "language": "python",
     "metadata": {},
     "outputs": []
    },
    {
     "cell_type": "code",
     "collapsed": false,
     "input": [
      "cat = ascii.read(os.path.join(\"imdrizzle/F127M.cat\"))"
     ],
     "language": "python",
     "metadata": {},
     "outputs": []
    },
    {
     "cell_type": "code",
     "collapsed": false,
     "input": [
      "for i,junk in enumerate([1,2,3]): \n",
      "  if i !=2:\n",
      "    cat.remove_row(i)\n",
      "#newcat.meta={}\n",
      "#fonewcat.remove_row(0)\n",
      "#help(cat)\n",
      "#tmp=cat[:][2]\n",
      "#tmp\n",
      "#ascii.write(cat, 'testcat.dat')\n"
     ],
     "language": "python",
     "metadata": {},
     "outputs": []
    },
    {
     "cell_type": "code",
     "collapsed": false,
     "input": [
      "cat"
     ],
     "language": "python",
     "metadata": {},
     "outputs": []
    },
    {
     "cell_type": "code",
     "collapsed": false,
     "input": [
      "print(tmp.min())"
     ],
     "language": "python",
     "metadata": {},
     "outputs": []
    },
    {
     "cell_type": "code",
     "collapsed": false,
     "input": [
      "print('%g'%(3.140))"
     ],
     "language": "python",
     "metadata": {},
     "outputs": []
    },
    {
     "cell_type": "code",
     "collapsed": false,
     "input": [
      "print('%g'%(3140.00))"
     ],
     "language": "python",
     "metadata": {},
     "outputs": []
    },
    {
     "cell_type": "code",
     "collapsed": false,
     "input": [
      "filters\n"
     ],
     "language": "python",
     "metadata": {},
     "outputs": []
    },
    {
     "cell_type": "code",
     "collapsed": false,
     "input": [
      "test = {'one': [43, 45]}"
     ],
     "language": "python",
     "metadata": {},
     "outputs": []
    },
    {
     "cell_type": "code",
     "collapsed": false,
     "input": [
      "test['one'][0]"
     ],
     "language": "python",
     "metadata": {},
     "outputs": []
    },
    {
     "cell_type": "code",
     "collapsed": false,
     "input": [
      "time_diff=np.array([-1.,0.,0.])-1."
     ],
     "language": "python",
     "metadata": {},
     "outputs": []
    },
    {
     "cell_type": "code",
     "collapsed": false,
     "input": [
      "True in (time_diff < 0)"
     ],
     "language": "python",
     "metadata": {},
     "outputs": []
    },
    {
     "cell_type": "code",
     "collapsed": false,
     "input": [
      "time_diff.max()"
     ],
     "language": "python",
     "metadata": {},
     "outputs": []
    },
    {
     "cell_type": "code",
     "collapsed": false,
     "input": [
      "time_diff == time_diff.max()"
     ],
     "language": "python",
     "metadata": {},
     "outputs": []
    },
    {
     "cell_type": "code",
     "collapsed": false,
     "input": [],
     "language": "python",
     "metadata": {},
     "outputs": []
    }
   ],
   "metadata": {}
  }
 ]
}